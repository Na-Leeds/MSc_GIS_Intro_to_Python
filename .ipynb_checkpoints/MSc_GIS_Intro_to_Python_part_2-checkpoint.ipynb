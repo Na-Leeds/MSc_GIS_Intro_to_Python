{
 "cells": [
  {
   "cell_type": "markdown",
   "metadata": {},
   "source": [
    "#  Introduction to Python (session 2) <a class=\"tocSkip\">\n",
    "<br>\n",
    "\n",
    "Content adapted from Francesca Pontin's Introduction to Python course (please contact: F.L.Pontin@leeds.ac.uk) <a class=\"tocSkip\">"
   ]
  },
  {
   "cell_type": "markdown",
   "metadata": {},
   "source": [
    "# Visualising data\n",
    "\n",
    "- <font color =grey> Why visualise data? </font>\n",
    "- Different visualisations\n",
    "- Matplotlib and Seaborn\n",
    "- <font color =grey> Grammar of graphics </font>\n",
    "- Editing graphics\n",
    "\n",
    "### <i> Often the best way to understand the data you have is to visualise it <a class=\"tocSkip\"> </i>"
   ]
  },
  {
   "cell_type": "markdown",
   "metadata": {},
   "source": [
    "As this is a new notebook we need to re-import the packages we need and re-load the titanic dataset."
   ]
  },
  {
   "cell_type": "code",
   "execution_count": null,
   "metadata": {},
   "outputs": [],
   "source": [
    "# First import the packages we are going to need\n",
    "\n",
    "import seaborn as sns\n",
    "import matplotlib.pyplot as plt\n",
    "import pandas as pd"
   ]
  },
  {
   "cell_type": "code",
   "execution_count": null,
   "metadata": {},
   "outputs": [],
   "source": [
    "# load the titanic example dataset and save it as a dataframe named titanic\n",
    "titanic = sns.load_dataset('titanic')"
   ]
  },
  {
   "cell_type": "markdown",
   "metadata": {},
   "source": [
    "## Histograms"
   ]
  },
  {
   "cell_type": "markdown",
   "metadata": {},
   "source": [
    "We will plot two histograms to see the distribution of data before and after cleaning.\n",
    "<br>The simplest way to do this is using the matplotlib <code>.hist()</code> function.\n",
    "<br> <font color='orchid'> <b>Run the two cells below</b></font>"
   ]
  },
  {
   "cell_type": "code",
   "execution_count": null,
   "metadata": {
    "scrolled": true
   },
   "outputs": [],
   "source": [
    "titanic['age'].hist()"
   ]
  },
  {
   "cell_type": "code",
   "execution_count": null,
   "metadata": {
    "scrolled": true
   },
   "outputs": [],
   "source": [
    "titanic['fare'].hist()"
   ]
  },
  {
   "cell_type": "markdown",
   "metadata": {},
   "source": [
    "<div class=\"alert alert-block alert-info\">\n",
    "<b>Tip:</b> <br>The <code>;</code> is used after coding a visualisation to supress the text output that is also created. <br> When you next create a visualisation try running the code with and without the <code>;</code> . <br>\n",
    "    \n",
    "<code>;</code> can also be used to supress other outputs. E.g. Whilst <code>titanic.head()</code> shows you the first 5 lines of the titanic dataframe. <code>titanic.head();</code> would not produce an output.\n",
    "</div>"
   ]
  },
  {
   "cell_type": "markdown",
   "metadata": {},
   "source": [
    "## Scatterplots and correlations"
   ]
  },
  {
   "cell_type": "markdown",
   "metadata": {},
   "source": [
    "Use the matplotlib pyplot <code>.scatter()</code> function to create a scatter plot.\n",
    "<br>Whilst a histogram is 1 dimensional (takes one set of data), scatter plots plot two lots of data (often columns) against each other.\n",
    "\n",
    "We will use the scatter plot to see if there is a correlation between age and fare, specifying age as the x-axis variable and price as the y-axis variable \n",
    "<br> <font color='orchid'> <b>Run the code below</b></font>"
   ]
  },
  {
   "cell_type": "code",
   "execution_count": null,
   "metadata": {
    "scrolled": true
   },
   "outputs": [],
   "source": [
    "titanic.plot.scatter(x='age',y='fare');"
   ]
  },
  {
   "cell_type": "markdown",
   "metadata": {},
   "source": [
    "## Customising graphs\n",
    "\n",
    "There are lots of different ways to edit graphs to get them looking how you want\n",
    "\n",
    "- <code>s=</code>: scalar i.e. point size \n",
    "- <code>c=</code>: colour of the points, see the list of matplotlib colours below. colours need to be in speech marks e.g.<code>\"red\"</code>\n",
    "<img src= \"screenshots/colors.png\" width =700 >\n",
    "- <code>alpha=</code>: How transparent the point is, 0-1 (completely transparent- solid colour)\n",
    "- <code>marker=</code>: Defines how the point looks, there are a few examples below and more [here](https://matplotlib.org/3.1.1/api/markers_api.html#module-matplotlib.markers)\n",
    "<img src= \"Intro_to_Python\\marker.png\" width =500 >\n",
    "\n",
    "<br> <font color='orchid'> <b>Play arround with the code below, changing different elements</b></font>"
   ]
  },
  {
   "cell_type": "code",
   "execution_count": null,
   "metadata": {},
   "outputs": [],
   "source": [
    "titanic.plot.scatter(x='age',y='fare', s=20, c='green', alpha=0.3);"
   ]
  },
  {
   "cell_type": "markdown",
   "metadata": {},
   "source": [
    "<br> <font color='orchid'> <b>Plot your own scatter plot of age against fare with pink triangular points, scalar = 75 and make the points semi-transparent</b></font>"
   ]
  },
  {
   "cell_type": "code",
   "execution_count": null,
   "metadata": {},
   "outputs": [],
   "source": [
    "# scatter plot age v. fare, semi-transparent pink triangular points, scalar = 75, \n"
   ]
  },
  {
   "cell_type": "markdown",
   "metadata": {},
   "source": [
    "## Visulisations using Seaborn\n",
    "The seaborn package can also be used to visulise data. Often producing cleaner and clearer looking plots along with statistical graphics. <br>\n",
    "\n",
    "### Plotting data distribution\n",
    "<code>sns.distplot()</code> is similar to <code>.hist() </code> but form the seaborn package\n",
    "<br><font color= \"orchid\"><b> Run the code bellow </font>"
   ]
  },
  {
   "cell_type": "code",
   "execution_count": null,
   "metadata": {},
   "outputs": [],
   "source": [
    "sns.distplot(titanic['age'].dropna(), rug=True)"
   ]
  },
  {
   "cell_type": "markdown",
   "metadata": {},
   "source": [
    "### Plotting bivariate (numeric) data - joint plot\n",
    "\n",
    "<code>sns.jointplot()</code> is used to plot two variable with seaborn. Notice it also produces a histogram of the variable distributions of each axis.\n",
    "\n",
    "Like with matplotlib elements of the graph are editable\n",
    "\n",
    "<code>kind=</code> : Can be “scatter” (default) | “reg” | “resid” | “kde” | “hex” \n",
    "\n",
    "#### Scatter plots\n",
    "\n",
    "Creates a scatter plot with histograms for each variable on the x (age) and y (fare) axis respectively\n",
    "<br><font color= \"orchid\"><b> Run the code bellow and then try changing the kind of graph plotted </font>"
   ]
  },
  {
   "cell_type": "code",
   "execution_count": null,
   "metadata": {
    "scrolled": false
   },
   "outputs": [],
   "source": [
    "sns.jointplot(x='age',y='fare', kind ='scatter',data=titanic);"
   ]
  },
  {
   "cell_type": "markdown",
   "metadata": {},
   "source": [
    "#### Kernel density estimates (KDE)\n",
    "Plots a bivariate kernel density estimate with univariate kernel density estimate on each axis\n",
    "\n",
    "<br><font color= \"orchid\"><b> Copy and change the original jointplot code to produce a kde plot </font>"
   ]
  },
  {
   "cell_type": "code",
   "execution_count": null,
   "metadata": {},
   "outputs": [],
   "source": [
    "# plot a kde plot\n"
   ]
  },
  {
   "cell_type": "markdown",
   "metadata": {},
   "source": [
    "#### Regression plots\n",
    "\n",
    "Adds a linear regression fit to the scatter plot. \n",
    "Univariate KDE curves on axis. \n",
    "\n",
    "<br><font color= \"orchid\"><b> Copy and change the original jointplot code to produce a regression plot </font>"
   ]
  },
  {
   "cell_type": "code",
   "execution_count": null,
   "metadata": {},
   "outputs": [],
   "source": [
    "# plot a reg plot\n"
   ]
  },
  {
   "cell_type": "markdown",
   "metadata": {},
   "source": [
    "#### Hexbin plots\n",
    "\n",
    "\"Hexbin plots take in lists of X and Y values and returns what looks somewhat similar to a scatter plot, but where the entire graphing space has been divided into hexagons (like a honeycomb) and all points have been grouped into their respective hexagonal regions with a color gradient indicating the density (or mean Z values) of each hexagonal area.\"\n",
    "\n",
    "##### Why not just use a scatterplot?\n",
    "\n",
    "Hexbins are particularly useful if you have a lot of data or lots of overlapping points as they give a good visualisation of point density. \n",
    "\n",
    "\n",
    "Explanation source and full article: https://medium.com/@mattheweparker/visualizing-data-with-hexbins-in-python-39823f89525e\n",
    "\n",
    "<br><font color= \"orchid\"><b> Copy and change the original jointplot code to produce a hexbin plot </font>"
   ]
  },
  {
   "cell_type": "code",
   "execution_count": null,
   "metadata": {},
   "outputs": [],
   "source": [
    "# plot a hex plot\n"
   ]
  },
  {
   "cell_type": "markdown",
   "metadata": {},
   "source": [
    "#### Residuals plot\n",
    "Plots the residuals of a linear regression.\n",
    "\n",
    "Residual plots are used to evaluate regression models, I have included them for reference as some of you may already produce them using other software. However  don't worry if you don't recognise then (we are not covering stats. theory here).\n",
    "\n",
    "If you would like to learn more about residuals this article gives a good explanation: https://www.statisticshowto.com/residual-plot/\n",
    "\n",
    "<br><font color= \"orchid\"><b> Copy and change the original jointplot code to produce a residuals plot </font>"
   ]
  },
  {
   "cell_type": "code",
   "execution_count": null,
   "metadata": {},
   "outputs": [],
   "source": [
    "# plot a residuals plot\n"
   ]
  },
  {
   "cell_type": "markdown",
   "metadata": {},
   "source": [
    "### Different editable parameters with Seaborn\n",
    "To edit the seaborn plot, the parameters you specify are slightly different to matplotlib.\n",
    "\n",
    "You will notice with seaborn that the <code>x</code> and <code>y</code> specify only the column name and <code>data</code> is used to specify the dataframe where the <code>x</code>&<code>y</code> columns can be found.\n",
    "\n",
    "#### Other editable parameters:\n",
    "- <code>color=</code> colour of the points, see the list of matplotlib colours. Colours need to be in speech marks e.g.<code>\"red\"</code> \n",
    "<br>Note the American spelling, using 'colour' will produce an error\n",
    "- <code>height=</code> Size of the figure (it will be square), enter a numerical value.\n",
    "- <code>marker=</code> Same as matplotlib\n",
    "\n",
    "\n",
    "Read more about the editable parameters in the [seaborn jointplot documentation](https://seaborn.pydata.org/generated/seaborn.jointplot.html)\n",
    "<br> <font color='orchid'> <b>Play arround with the code below, changing different elements</b></font>"
   ]
  },
  {
   "cell_type": "code",
   "execution_count": null,
   "metadata": {
    "scrolled": true
   },
   "outputs": [],
   "source": [
    "sns.jointplot(x='age',y='fare', color='red', kind ='scatter',data=titanic,\n",
    "             height=8, marker='v');"
   ]
  },
  {
   "cell_type": "markdown",
   "metadata": {},
   "source": [
    "## Plotting categorical data\n",
    "### Bar chart\n",
    "\n",
    "We are going to use seaborne.catplot; this is a visulisation which can handle categorical data.\n",
    "\n",
    "We are going to plot the column 'coffee_shop;, as each row is a unique type of coffee by counting the number of times the coffee shop name occurs that tells us how many coffees they sell.\n"
   ]
  },
  {
   "cell_type": "code",
   "execution_count": null,
   "metadata": {},
   "outputs": [],
   "source": [
    "sns.catplot(x='pclass', data=titanic, kind='count')"
   ]
  },
  {
   "cell_type": "markdown",
   "metadata": {},
   "source": [
    " Now produce a count plot for column 'embark_town'\n",
    "<font color='orchid'> <b>Write your own code in the cell bellow</b></font>"
   ]
  },
  {
   "cell_type": "code",
   "execution_count": null,
   "metadata": {},
   "outputs": [],
   "source": [
    "# write code here\n"
   ]
  },
  {
   "cell_type": "markdown",
   "metadata": {},
   "source": [
    "This is what you should see <img src= \"screenshots/embark_count.png\" width =400 >"
   ]
  },
  {
   "cell_type": "markdown",
   "metadata": {},
   "source": [
    "### Box plot\n",
    "\n",
    "Visualises the summary statistics of the data: mean/median and interquartile ranges"
   ]
  },
  {
   "cell_type": "code",
   "execution_count": null,
   "metadata": {
    "scrolled": false
   },
   "outputs": [],
   "source": [
    "# plot a boxplot of fare by the passenger class\n",
    "plt.figure(figsize=(10,10))\n",
    "sns.boxplot(x='pclass', y='fare', data=titanic);"
   ]
  },
  {
   "cell_type": "markdown",
   "metadata": {},
   "source": [
    "### Violin plot\n",
    "Also visualises the summary statisitcs of the data, but often prefered over a box plot as they also show the distribution of the data"
   ]
  },
  {
   "cell_type": "code",
   "execution_count": null,
   "metadata": {
    "scrolled": true
   },
   "outputs": [],
   "source": [
    "plt.figure(figsize=(12,8))\n",
    "sns.violinplot(x='pclass', y='fare', data=titanic);"
   ]
  },
  {
   "cell_type": "markdown",
   "metadata": {},
   "source": [
    "You can edit the violin plot to show a third variable, using the <code>hue</code> parameter. \n",
    "<br>Adding <code>hue='sex'</code> will produce a violinplot for fare by class for male and females."
   ]
  },
  {
   "cell_type": "code",
   "execution_count": null,
   "metadata": {},
   "outputs": [],
   "source": [
    "# Visualise the distirbution and summary stats. of fare price for each passeneger class, by sex.\n",
    "\n",
    "# define plot size\n",
    "plt.figure(figsize=(12,8))\n",
    "# plot\n",
    "sns.violinplot(x='pclass', y='fare',  hue='sex', data=titanic);"
   ]
  },
  {
   "cell_type": "markdown",
   "metadata": {},
   "source": [
    "Try adding the code <code> split=True, </code> to the graph specifications above. What happens?"
   ]
  },
  {
   "cell_type": "code",
   "execution_count": null,
   "metadata": {},
   "outputs": [],
   "source": [
    "# Visualise the distirbution and summary stats. of fare price for each passeneger class, by sex.\n",
    "# add split=True\n",
    "\n"
   ]
  },
  {
   "cell_type": "markdown",
   "metadata": {},
   "source": [
    "### Categorical plot: the relationship between a categorical and numerical variable\n",
    "\n",
    "<code>sns.catplot.()</code> by default plots a  'stripplot': a scatterplot where one variable is categorical.\n",
    "\n",
    "\n",
    "\n",
    "\n",
    "\n",
    "\n"
   ]
  },
  {
   "cell_type": "markdown",
   "metadata": {},
   "source": [
    "<font color='orchid'> <b>Plot the fare price by class</font>"
   ]
  },
  {
   "cell_type": "code",
   "execution_count": null,
   "metadata": {},
   "outputs": [],
   "source": [
    "sns.catplot(x='pclass', y='fare', data=titanic, height=6, dodge=True);"
   ]
  },
  {
   "cell_type": "markdown",
   "metadata": {},
   "source": [
    "<font color='orchid'> <b>Plot the fair paid by each passenger by class and colour the points based on the sex of the passenger </font>\n"
   ]
  },
  {
   "cell_type": "code",
   "execution_count": null,
   "metadata": {
    "scrolled": false
   },
   "outputs": [],
   "source": [
    "sns.catplot(x='pclass', y='fare',  hue='sex', height=6,data=titanic,);"
   ]
  },
  {
   "cell_type": "markdown",
   "metadata": {},
   "source": [
    "<font color='orchid'> <b>Plot the age of passenger (y axis) by sex (x axis) and colour the points based on whether they were traveling alone </font>\n"
   ]
  },
  {
   "cell_type": "code",
   "execution_count": null,
   "metadata": {},
   "outputs": [],
   "source": [
    "# type code here\n"
   ]
  },
  {
   "cell_type": "markdown",
   "metadata": {},
   "source": [
    "It should look like this:\n",
    "<img src= \"screenshots/sex_age_alone_vis.png\" width =500 >"
   ]
  },
  {
   "cell_type": "markdown",
   "metadata": {},
   "source": [
    "You cna even plot a forth variable by specifying <code>col= 'varaible_name',</code> to plot seperate plots for each category. E.g.:"
   ]
  },
  {
   "cell_type": "code",
   "execution_count": null,
   "metadata": {
    "scrolled": false
   },
   "outputs": [],
   "source": [
    "sns.catplot(x='sex', y='age',  col='class', hue='alive', data=titanic);"
   ]
  },
  {
   "cell_type": "markdown",
   "metadata": {},
   "source": [
    "### Color palettes\n",
    "\n",
    "Where we specify hue, or are using more than one color in a plot we can specify the palette we want to use for different colors. \n",
    "\n",
    "http://seaborn.pydata.org/tutorial/color_palettes.html\n",
    "\n",
    "\n",
    "<font color = red> Do not worry about understanding the code below </font>"
   ]
  },
  {
   "cell_type": "code",
   "execution_count": null,
   "metadata": {
    "scrolled": false
   },
   "outputs": [],
   "source": [
    "# Code to show all color maps (just run do not worry about what the code is doing- this is for reference only)\n",
    "import numpy as np\n",
    "cmaps =  [('All Color Maps',\n",
    "\"Accent, Accent_r, Blues, Blues_r, BrBG, BrBG_r, BuGn, BuGn_r, BuPu, \\\n",
    "           BuPu_r, CMRmap, CMRmap_r, Dark2, Dark2_r, GnBu, GnBu_r, \\\n",
    "           Greens, Greens_r, Greys, Greys_r, OrRd, OrRd_r, Oranges, \\\n",
    "           Oranges_r, PRGn, PRGn_r, Paired, Paired_r, Pastel1, Pastel1_r, \\\n",
    "           Pastel2, Pastel2_r, PiYG, PiYG_r, PuBu, PuBuGn, PuBuGn_r, PuBu_r, \\\n",
    "           PuOr, PuOr_r, PuRd, PuRd_r, Purples, Purples_r, RdBu, RdBu_r, \\\n",
    "           RdGy, RdGy_r, RdPu, RdPu_r, RdYlBu, RdYlBu_r, RdYlGn, RdYlGn_r, \\\n",
    "           Reds, Reds_r, Set1, Set1_r, Set2, Set2_r, Set3, Set3_r, Spectral,\\\n",
    "           Spectral_r, Wistia, Wistia_r, YlGn, YlGnBu, YlGnBu_r, YlGn_r, \\\n",
    "           YlOrBr, YlOrBr_r, YlOrRd, YlOrRd_r, afmhot, afmhot_r, autumn, \\\n",
    "           autumn_r, binary, binary_r, bone, bone_r, brg, brg_r, bwr, \\\n",
    "           bwr_r, cool, cool_r, coolwarm, coolwarm_r, copper, copper_r, \\\n",
    "           cubehelix, cubehelix_r, flag, flag_r, gist_earth, gist_earth_r, \\\n",
    "           gist_gray, gist_gray_r, gist_heat, gist_heat_r, gist_ncar, \\\n",
    "           gist_ncar_r, gist_rainbow, gist_rainbow_r, gist_stern, \\\n",
    "           gist_stern_r, gist_yarg, gist_yarg_r, gnuplot, gnuplot2, \\\n",
    "           gnuplot2_r, gnuplot_r, gray, gray_r, hot, hot_r, hsv, \\\n",
    "           hsv_r, inferno, inferno_r, jet, jet_r, magma, magma_r, \\\n",
    "           nipy_spectral, nipy_spectral_r, ocean, ocean_r, pink, \\\n",
    "           pink_r, plasma, plasma_r, prism, prism_r, rainbow, rainbow_r, \\\n",
    "           seismic, seismic_r, spring, spring_r, summer, summer_r, terrain, \\\n",
    "           terrain_r, viridis, viridis_r, winter, winter_r\".replace(\" \", \"\").split(',')\n",
    "          )]\n",
    "nrows = max(len(cmap_list) for cmap_category, cmap_list in cmaps)\n",
    "gradient = np.linspace(0, 1, 256)\n",
    "gradient = np.vstack((gradient, gradient))\n",
    "\n",
    "\n",
    "def plot_color_gradients(cmap_category, cmap_list, nrows):\n",
    "    height = 0.4 * nrows\n",
    "    fig, axes = plt.subplots(nrows=nrows, figsize=(10, height))\n",
    "    fig.subplots_adjust(top=0.95, bottom=0.01, left=0.2, right=0.99)\n",
    "    axes[0].set_title(cmap_category + ' colormaps', fontsize=14)\n",
    "\n",
    "    for ax, name in zip(axes, cmap_list):\n",
    "        ax.imshow(gradient, aspect='auto', cmap=plt.get_cmap(name))\n",
    "        pos = list(ax.get_position().bounds)\n",
    "        x_text = pos[0] - 0.01\n",
    "        y_text = pos[1] + pos[3]/2.\n",
    "        fig.text(x_text, y_text, name, va='center', ha='right', fontsize=10)\n",
    "\n",
    "    # Turn off *all* ticks & spines, not just the ones with colormaps.\n",
    "    for ax in axes:\n",
    "        ax.set_axis_off()\n",
    "\n",
    "\n",
    "for cmap_category, cmap_list in cmaps:\n",
    "\n",
    "    plot_color_gradients(cmap_category, cmap_list, nrows)\n",
    "\n",
    "plt.show();\n",
    "\n",
    "# code source: https://stackoverflow.com/questions/48114473/scaling-plot-sizes-with-matplotlib"
   ]
  },
  {
   "cell_type": "markdown",
   "metadata": {},
   "source": [
    "There are also colour palletes which have colours which arew easily distinguishable by those who are color blind. "
   ]
  },
  {
   "cell_type": "code",
   "execution_count": null,
   "metadata": {
    "scrolled": true
   },
   "outputs": [],
   "source": [
    "sns.palplot(sns.color_palette(\"colorblind\", 10))"
   ]
  },
  {
   "cell_type": "code",
   "execution_count": null,
   "metadata": {},
   "outputs": [],
   "source": [
    "sns.catplot(x='pclass', y='fare',  hue='class', kind='violin', palette='colorblind',height=6,data=titanic);"
   ]
  },
  {
   "cell_type": "markdown",
   "metadata": {},
   "source": [
    "### Facetting plots: seperate for categorical variables \n",
    "\n",
    "Facetting maps a dataset onto multiple axes arrayed in a grid of rows and columns that correspond to levels of variables in the dataset.\n",
    "\n",
    "We can asign <code>row=</code>, <code>col=</code> or both as a categorical variable, instructing python to plot a series of graphs, each in a row/column which correspond to the data meeting the specified category.\n",
    "\n",
    "\n",
    "\n",
    "specify a categorical variable "
   ]
  },
  {
   "cell_type": "code",
   "execution_count": null,
   "metadata": {},
   "outputs": [],
   "source": [
    "# define facetting and assign to variable g\n",
    "g=sns.FacetGrid(titanic, col=\"alive\", row=\"sex\")\n",
    "\n",
    "# Apply the plotting function to each facet’s (g) subset of the data. (map the plotting to the facet grid)\n",
    "g.map(sns.countplot, \"class\",  data =titanic);"
   ]
  },
  {
   "cell_type": "code",
   "execution_count": null,
   "metadata": {
    "scrolled": true
   },
   "outputs": [],
   "source": [
    "sns.catplot(x='sex', y='age',  col='class', row='alone', hue='alive',  data=titanic);"
   ]
  },
  {
   "cell_type": "markdown",
   "metadata": {},
   "source": [
    "### Strip, swarm, violin, box, boxen, point and bar plots (categorical + numerical data vis) "
   ]
  },
  {
   "cell_type": "markdown",
   "metadata": {},
   "source": [
    "\n",
    "<code>sns.catplot()</code> can also be used to draw other caeogrical plot types, inclusing some we have already covered, by specifying <code>kind= </code>\n",
    "\n",
    "<code>kind =</code>:\n",
    "\n",
    "- 'strip': stip plot (default)\n",
    "- 'swarm': swarm plot\n",
    "- 'violin': violin plot\n",
    "- 'box': box plots \n",
    "- 'boxen': boxen plots\n",
    "- 'point': point plot\n",
    "- 'bar': bar plot\n",
    "\n",
    "These are demonstrated in the code below, do not worry about trying to reporduce the code below, the comments are just for your own interest. \n",
    "\n"
   ]
  },
  {
   "cell_type": "code",
   "execution_count": null,
   "metadata": {
    "scrolled": false
   },
   "outputs": [],
   "source": [
    "# List of all catplot kind variables\n",
    "kind =['strip','swarm','box','violin','boxen','point','bar']\n",
    "\n",
    "# for element in the list kind\n",
    "for i in kind:\n",
    "    # plot a catplot where kind refers to the ith element in the list\n",
    "    g=sns.catplot(x='pclass', y='fare', data=titanic, height=6, dodge=True, kind=i)\n",
    "    # add title to the plot 'kind = ith elemnt in the list'\n",
    "    g.fig.suptitle('kind = '+i)\n",
    "    "
   ]
  },
  {
   "cell_type": "code",
   "execution_count": null,
   "metadata": {},
   "outputs": [],
   "source": [
    "sns.catplot(data=titanic, kind='point', y='fare',x='class')"
   ]
  },
  {
   "cell_type": "markdown",
   "metadata": {},
   "source": [
    "## Data Visualisation to aid analysis\n",
    "\n",
    "### Pair plots \n",
    "To get a better sense of how the variables are all related we can plot a pairplot: plotting all the variables against each other in a grid. Where variables are plotted against themselves a histogram is plotted instead to show the distribution of the data (plotted on the diagonal). <br>\n",
    "Seaborn has a simple <code>.pairplot()</code> function\n",
    "<br> <font color='orchid'> <b>Run the code below </b></font>"
   ]
  },
  {
   "cell_type": "code",
   "execution_count": null,
   "metadata": {},
   "outputs": [],
   "source": [
    "titanic.dtypes"
   ]
  },
  {
   "cell_type": "markdown",
   "metadata": {},
   "source": [
    "Convert boolean to integer for pair plot plotting"
   ]
  },
  {
   "cell_type": "code",
   "execution_count": null,
   "metadata": {},
   "outputs": [],
   "source": [
    "titanic_clean = titanic\n",
    "titanic_clean[\"adult_male\"] = titanic_clean[\"adult_male\"].astype(int)\n",
    "titanic_clean[\"alone\"] = titanic_clean[\"alone\"].astype(int)"
   ]
  },
  {
   "cell_type": "code",
   "execution_count": null,
   "metadata": {},
   "outputs": [],
   "source": [
    "sns.pairplot(titanic_clean);"
   ]
  },
  {
   "cell_type": "markdown",
   "metadata": {},
   "source": [
    "Similar to other seaborn plot you can define a variable to represent colour (hue) in the pairplot. E.g.<code> hue ='class'</code>"
   ]
  },
  {
   "cell_type": "code",
   "execution_count": null,
   "metadata": {},
   "outputs": [],
   "source": [
    "sns.pairplot(titanic_clean, hue='class',diag_kind='hist');"
   ]
  },
  {
   "cell_type": "markdown",
   "metadata": {},
   "source": [
    "### Heatmap (variable correlation)\n"
   ]
  },
  {
   "cell_type": "code",
   "execution_count": null,
   "metadata": {
    "scrolled": true
   },
   "outputs": [],
   "source": [
    "titanic.corr()"
   ]
  },
  {
   "cell_type": "code",
   "execution_count": null,
   "metadata": {
    "scrolled": true
   },
   "outputs": [],
   "source": [
    "# set figure size\n",
    "plt.figure(figsize=(8,8))\n",
    "# plot a heatmap of the correlation table created above, annot= True annotates the cells with the correlation value\n",
    "sns.heatmap(titanic.corr(), annot=True, cmap='viridis');"
   ]
  },
  {
   "cell_type": "code",
   "execution_count": null,
   "metadata": {},
   "outputs": [],
   "source": [
    "sns.clustermap(titanic.corr(), center=0, cmap='viridis')"
   ]
  },
  {
   "cell_type": "markdown",
   "metadata": {},
   "source": [
    "If you are interested try looking at the [seaborn example gallery](https://seaborn.pydata.org/examples/index.html) and experiment by plotting some of the visualisations with the coffee data. <br>\n",
    "You can also try reading in your own data (make sure its in a CSV format- this is easy to do [for excel spreadsheets](https://www.ablebits.com/office-addins-blog/2014/04/24/convert-excel-csv/)) using <code>pd.read_csv()</code> and making your own visualistaions."
   ]
  },
  {
   "cell_type": "markdown",
   "metadata": {},
   "source": [
    "<a id='file_paths'></a>\n",
    "# File Paths"
   ]
  },
  {
   "attachments": {
    "image.png": {
     "image/png": "[encoded data removed]"
    }
   },
   "cell_type": "markdown",
   "metadata": {},
   "source": [
    "A file path identifies the exact unique location of a file or folder in a file system.\n",
    "<br>E.g. I created this notebook in the following folders.<br>\n",
    "* F: (USB)\n",
    "    * 2021_22 (Folder)\n",
    "        * Data_Science (Folder)\n",
    "            * Intro_to_Python (Folder)\n",
    "                * Intro_to_Python.ipyn (the Jupyter Notebook file)<br>\n",
    "\n",
    "\n",
    "Resulting in the file path:\"F:\\2021_22\\Data_Science\\Intro_to_Python\\Intro to Python.ipynb\"\n",
    "\n"
   ]
  },
  {
   "cell_type": "markdown",
   "metadata": {},
   "source": [
    "# FAQs \n",
    "\n",
    "## Why do some functions have parentheses and others do not? <a class=\"tocSkip\">\n",
    "\n",
    "Parentheses indicate the difference between methods versus attibutes\n",
    "\n",
    "### Attributes: <a class=\"tocSkip\">\n",
    "- do not have parentheses () \n",
    "- are values associated with an object e.g. <code> <font color='blue'>dataframe</font>.shape, <font color='blue'>dataframe</font>.column, <font color='blue'>dataframe</font>.dtypes </code> these are all attributes of the dataframe (object) they are applied to. \n",
    "\n",
    "### Methods: <a class=\"tocSkip\">\n",
    "- do have parentheses () \n",
    "- are functions associated with particular objects. E.g. <code> <font color='blue'>dataframe</font>.head(), <font color='blue'>dataframe</font>[\"<font color='blue'>column</font>\"].mean() </code> "
   ]
  }
 ],
 "metadata": {
  "kernelspec": {
   "display_name": "Python 3",
   "language": "python",
   "name": "python3"
  },
  "language_info": {
   "codemirror_mode": {
    "name": "ipython",
    "version": 3
   },
   "file_extension": ".py",
   "mimetype": "text/x-python",
   "name": "python",
   "nbconvert_exporter": "python",
   "pygments_lexer": "ipython3",
   "version": "3.7.4"
  },
  "toc": {
   "base_numbering": 1,
   "nav_menu": {},
   "number_sections": true,
   "sideBar": true,
   "skip_h1_title": false,
   "title_cell": "Table of Contents",
   "title_sidebar": "Contents",
   "toc_cell": false,
   "toc_position": {
    "height": "calc(100% - 180px)",
    "left": "10px",
    "top": "150px",
    "width": "400.11029052734375px"
   },
   "toc_section_display": true,
   "toc_window_display": true
  }
 },
 "nbformat": 4,
 "nbformat_minor": 2
}
