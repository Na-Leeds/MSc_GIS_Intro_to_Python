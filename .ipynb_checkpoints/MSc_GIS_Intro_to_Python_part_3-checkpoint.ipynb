{
 "cells": [
  {
   "cell_type": "markdown",
   "metadata": {},
   "source": [
    "#  Introduction to Python (session 3) <a class=\"tocSkip\">\n",
    "\n",
    "#### Content adapted from Francesca Pontin's Introduction to Python course (please contact: F.L.Pontin@leeds.ac.uk) <a class=\"tocSkip\">"
   ]
  },
  {
   "cell_type": "markdown",
   "metadata": {},
   "source": [
    "# Exercise 1:  getting started with spatial data"
   ]
  },
  {
   "cell_type": "markdown",
   "metadata": {},
   "source": [
    "As is coding custom we import the required packages at the beginning<br>\n",
    "<font color='orchid'> <b>Import the packages below </font>"
   ]
  },
  {
   "cell_type": "markdown",
   "metadata": {},
   "source": [
    "Should look similar to:\n",
    "/opt/anaconda3/envs/geo_env/bin/python"
   ]
  },
  {
   "cell_type": "code",
   "execution_count": null,
   "metadata": {
    "scrolled": false
   },
   "outputs": [],
   "source": [
    "#Import the required packages\n",
    "\n",
    "import pandas as pd\n",
    "import numpy as np\n",
    "import geopandas as gpd\n",
    "import matplotlib.pyplot as plt\n",
    "import pyproj\n",
    "import contextily as ctx\n",
    "import seaborn as sns\n",
    "import geoplot as gplt\n"
   ]
  },
  {
   "cell_type": "markdown",
   "metadata": {},
   "source": [
    "We have imported a few new packages including 'geopandas'. Geopandas works like pandas but also handles spatial data. Geopandas was designed to allow people to easily handle and use spatial datasets in Python. <br>\n",
    "\n",
    "Geopandas has some datasets built into the package. We are going to use these datasets to get started and make some maps.\n",
    "\n",
    "<font color='orchid'> <b>Run the code below to explore which datasets are built in to the geopandas package </font>"
   ]
  },
  {
   "cell_type": "code",
   "execution_count": null,
   "metadata": {},
   "outputs": [],
   "source": [
    "gpd.datasets.available"
   ]
  },
  {
   "cell_type": "markdown",
   "metadata": {},
   "source": [
    "Geopandas has three in built datasets. We are going to use 'naturalearth_cities' and 'naturalearth_lowres'. <br>\n",
    "To use the datasets we need to read them in from where they are stored in the geopandas package file directory. <br>\n",
    "We will use the print function to check we have got the correct file path.<br>\n",
    "<font color= 'orchid'> <b>Run the code bellow to get the file paths for the datasets </font>"
   ]
  },
  {
   "cell_type": "code",
   "execution_count": null,
   "metadata": {},
   "outputs": [],
   "source": [
    "cities_path = gpd.datasets.get_path('naturalearth_cities')\n",
    "countries_path = gpd.datasets.get_path('naturalearth_lowres')\n",
    "print(cities_path)\n",
    "print(countries_path)"
   ]
  },
  {
   "cell_type": "markdown",
   "metadata": {},
   "source": [
    "## Shapefiles\n",
    "Notice the file type of the 'naturalearth_cities' and 'naturalearth_lowres' is \".shp\". This is a shapefile [\"A shapefile is an Esri vector data storage format for storing the location, shape, and attributes of geographic features. It is stored as a set of related files and contains one feature class.\"](https://doc.arcgis.com/en/arcgis-online/reference/shapefiles.htm).\n",
    "\n",
    "## Reading in spatial data\n",
    "We need to read these shp files in, geopandas work the same way as pandas, but are also able to handle the spatial element of the dataset. Therefore the code we use is very similar. We use <code>geopandas.read_file(<font color =red>file_path</font>) </code> replacing <font color =red>\"file_path\"</font>, with the actual path to the shapefile you want to use."
   ]
  },
  {
   "cell_type": "markdown",
   "metadata": {},
   "source": [
    "<div class=\"alert alert-block alert-info\">\n",
    "<b>Note:</b> This is very similar to the <code>pd.read_csv() function</code>\n",
    "</div>"
   ]
  },
  {
   "cell_type": "markdown",
   "metadata": {},
   "source": [
    "<font color='orchid'> Run the code below to read the spatial data in </font>"
   ]
  },
  {
   "cell_type": "code",
   "execution_count": null,
   "metadata": {},
   "outputs": [],
   "source": [
    "# Read in the shape file data\n",
    "cities = gpd.read_file(cities_path)\n",
    "countries = gpd.read_file(countries_path)"
   ]
  },
  {
   "cell_type": "markdown",
   "metadata": {},
   "source": [
    "### Data Exploration\n",
    "Just as we have done before we are going to explore the data by having a look at the dataframes and by visualising both the data sets."
   ]
  },
  {
   "cell_type": "code",
   "execution_count": null,
   "metadata": {},
   "outputs": [],
   "source": [
    "# let's have a look at the cities geopandas dataframe \n",
    "cities.head()"
   ]
  },
  {
   "cell_type": "markdown",
   "metadata": {},
   "source": [
    "Note that the dataframe has two columns:\n",
    "- 'name' naming the city\n",
    "- 'geometry' listing the type of geometry, in this case POINT. And two numbers - the coordinates of the point."
   ]
  },
  {
   "cell_type": "markdown",
   "metadata": {},
   "source": [
    "## Simple spatial data visualisation\n",
    "### Point data"
   ]
  },
  {
   "cell_type": "code",
   "execution_count": null,
   "metadata": {
    "scrolled": true
   },
   "outputs": [],
   "source": [
    "# Plot the cities data\n",
    "\n",
    "# define the plot size and nummber of subplots (1 i.e. 1 plot)\n",
    "f, ax = plt.subplots(1, figsize=(16, 8))\n",
    "# plot the  cities, specifying the subplot axis\n",
    "cities.plot(ax=ax)\n",
    "# show the plot\n",
    "plt.show()"
   ]
  },
  {
   "cell_type": "markdown",
   "metadata": {},
   "source": [
    "Now we will do the same for the countries dataframe."
   ]
  },
  {
   "cell_type": "markdown",
   "metadata": {},
   "source": [
    "### Polygon data"
   ]
  },
  {
   "cell_type": "code",
   "execution_count": null,
   "metadata": {
    "scrolled": false
   },
   "outputs": [],
   "source": [
    "# Explore the countries dataframe\n",
    "countries.head()"
   ]
  },
  {
   "cell_type": "markdown",
   "metadata": {},
   "source": [
    "<b>Note</b> the geometry column this time is made up of POLYGON data, made up of many coordinate points. <br>\n",
    "Let us have a closer look at the polygon geometry. We are going to look at the geometry of row 1."
   ]
  },
  {
   "cell_type": "code",
   "execution_count": null,
   "metadata": {},
   "outputs": [],
   "source": [
    "# Lets look at index 3 (for me it is Canada) of the geometry column\n",
    "# Notice the shape is quite complex with lots of edges\n",
    "countries.loc[3,'geometry']"
   ]
  },
  {
   "cell_type": "code",
   "execution_count": null,
   "metadata": {},
   "outputs": [],
   "source": [
    "# let us look at the list of coordinates\n",
    "print(countries.loc[3,'geometry'])\n",
    "# Each point is a corner of the country"
   ]
  },
  {
   "cell_type": "markdown",
   "metadata": {},
   "source": [
    "### Now let's plot all the countries"
   ]
  },
  {
   "cell_type": "code",
   "execution_count": null,
   "metadata": {},
   "outputs": [],
   "source": [
    "f,ax = plt.subplots(1, figsize=(16, 8))\n",
    "countries.plot(ax=ax)\n",
    "plt.show()"
   ]
  },
  {
   "cell_type": "markdown",
   "metadata": {},
   "source": [
    "## Coordinate Reference Systems (CRS)\n",
    "Before we map multiple layers we need to check they have the same Coordinate Reference System (CRS). Using the <code>.crs</code> function"
   ]
  },
  {
   "cell_type": "code",
   "execution_count": null,
   "metadata": {},
   "outputs": [],
   "source": [
    "cities.crs"
   ]
  },
  {
   "cell_type": "markdown",
   "metadata": {},
   "source": [
    "Look at what happens when we change the projection"
   ]
  },
  {
   "cell_type": "code",
   "execution_count": null,
   "metadata": {},
   "outputs": [],
   "source": [
    "# NAD83 Canadian Spatial Reference System: Large and medium scale topographic mapping and engineering survey.\n",
    "countries_new_proj= countries.to_crs(epsg=2953)\n",
    "\n",
    "# EPSG:3851 New Zealand Geodetic Datum 2000: Spatial referencing and conformal mapping on the NZ continental shelf.\n",
    "countries_new_proj2= countries.to_crs(epsg=3851)"
   ]
  },
  {
   "cell_type": "code",
   "execution_count": null,
   "metadata": {},
   "outputs": [],
   "source": [
    "# plot the two diifferent projections\n",
    "f, ax = plt.subplots(1,3, figsize=(30, 20))\n",
    "countries.plot(ax=ax[0])\n",
    "countries_new_proj.plot(ax=ax[1])\n",
    "countries_new_proj2.plot(ax=ax[2])\n",
    "plt.show()\n",
    "# Note the different scales on the axis and orrientation of the countries"
   ]
  },
  {
   "cell_type": "markdown",
   "metadata": {},
   "source": [
    "## Layering maps\n",
    "Much like other mapping software it is possible to layer maps in Python. We will plot the cities on top of the countries dataset.\n",
    "\n",
    "We need to check the CRS of both datasets is the same so we can accurately plot the layers on top of each other"
   ]
  },
  {
   "cell_type": "code",
   "execution_count": null,
   "metadata": {},
   "outputs": [],
   "source": [
    "# Check the CRS are the same\n",
    "print(cities.crs, countries.crs)"
   ]
  },
  {
   "cell_type": "markdown",
   "metadata": {},
   "source": [
    "## Plot the cities and countries together"
   ]
  },
  {
   "cell_type": "code",
   "execution_count": null,
   "metadata": {
    "scrolled": false
   },
   "outputs": [],
   "source": [
    "# plot one subplot (1 map), with dimensions 16 X 8\n",
    "f, ax = plt.subplots(1, figsize=(16, 8))\n",
    "\n",
    "# define the basemap plot it on the sublot axis\n",
    "base = countries.plot(ax=ax)\n",
    "\n",
    "# plot the cities on the basemap axis, colour the cities red\n",
    "cities.plot(ax=base,color='red')\n",
    "\n",
    "# shw the map\n",
    "plt.show()"
   ]
  },
  {
   "cell_type": "markdown",
   "metadata": {},
   "source": [
    "## Choropleth Mapping\n",
    "Choropleth maps denote an increase or decrease in value using darker or lighter shades or different colours e.g. Population"
   ]
  },
  {
   "cell_type": "code",
   "execution_count": null,
   "metadata": {},
   "outputs": [],
   "source": [
    "# Define plot size\n",
    "f,ax = plt.subplots(1, figsize=(16,8))\n",
    "# Plot the countries, specifying to plot the population estimate column \n",
    "# Add legend\n",
    "countries.plot(ax=ax, column ='pop_est', legend=True)\n",
    "plt.show()"
   ]
  },
  {
   "cell_type": "markdown",
   "metadata": {},
   "source": [
    "We might instead want to plot the percentage of the world population in each country, to do this we can edit the scale of the colour bar. "
   ]
  },
  {
   "cell_type": "code",
   "execution_count": null,
   "metadata": {},
   "outputs": [],
   "source": [
    "# Define plot size\n",
    "f,ax = plt.subplots(1, figsize=(16,8))\n",
    "# Plot the countries, specifying to plot the population estimate column \n",
    "# Add legend\n",
    "countries.plot(ax=ax, column ='pop_est', legend=True)\n",
    "\n",
    "colourbar = ax.get_figure().get_axes()[1]\n",
    "\n",
    "# Get numerical values of yticks, and calcualte as percentageof the total world popualtion:\n",
    "yticks = colourbar.get_yticks()/countries['pop_est'].sum()*100\n",
    "\n",
    "# Apply some function f to each tick, where f can be your percentage conversion\n",
    "colourbar.set_yticklabels(['{0:.2f}%'.format(ytick) for ytick in yticks])\n",
    "\n",
    "plt.show()"
   ]
  },
  {
   "cell_type": "markdown",
   "metadata": {},
   "source": [
    "<font color= 'orchid'> <b>Code your own choropleth map for 'gdp_md_est'<b></font><br>\n"
   ]
  },
  {
   "cell_type": "code",
   "execution_count": null,
   "metadata": {
    "scrolled": false
   },
   "outputs": [],
   "source": [
    "# code your choropleth map here!"
   ]
  },
  {
   "cell_type": "markdown",
   "metadata": {},
   "source": [
    "### Plotting Categorical variables\n",
    "It is possible to create choropleth maps with categorical variables. To do this we specify <code> categorical=True,</code> withn the <code>plot()</code> function.<br> If we treat the continent of the country as a categorical variable we can colour the countries based on the continent they are in.<br>\n",
    "\n",
    "Note the legend of the map is now separate colours and not a continuous colour bar \n",
    "\n",
    "<font color ='orchid'> <b> Run the code below to plot a categorical choropleth </font>"
   ]
  },
  {
   "cell_type": "code",
   "execution_count": null,
   "metadata": {},
   "outputs": [],
   "source": [
    "f,ax = plt.subplots(1, figsize=(16,8))\n",
    "countries.plot(ax=ax, column ='continent', categorical=True, legend=True)\n",
    "plt.show();"
   ]
  },
  {
   "cell_type": "markdown",
   "metadata": {},
   "source": [
    "## Subsetting spatial data\n",
    "We can also work with and plot just a subset of the spatial data. For example we might only be interested in Africa. In which case we can use the <code>.loc[]</code> fucntion to locate all rows (countries) where the continent is Africe. Just like we would normally do in a non-spatial pandas dataframe.<br>\n",
    "\n",
    "<font color ='orchid'> <b>Run the code below </font>"
   ]
  },
  {
   "cell_type": "code",
   "execution_count": null,
   "metadata": {
    "scrolled": true
   },
   "outputs": [],
   "source": [
    "# locate countries (rows) in Africa\n",
    "africa= countries.loc[countries['continent']=='Africa']\n",
    "# view the newly created Africa dataframe\n",
    "africa"
   ]
  },
  {
   "cell_type": "markdown",
   "metadata": {},
   "source": [
    "It is now possible to plot just Africa. We can also put maps side by side to compare them. Here we are going to plot population estimate for each country and the estimated GDP for each country.<br>\n",
    "\n",
    "<font color = 'orchid'> <b> Run the code below,</b> make sure you understand what each line does (there is a lot going on)</font>"
   ]
  },
  {
   "cell_type": "code",
   "execution_count": null,
   "metadata": {
    "scrolled": true
   },
   "outputs": [],
   "source": [
    "# create a figure with two subplots (maps) \n",
    "f,ax = plt.subplots(1,2, figsize=(12,6))\n",
    "\n",
    "# plot population estimate in subplot 1\n",
    "africa.plot(ax=ax[0], column ='pop_est', legend=True)\n",
    "\n",
    "# plot gdp estimate in subplot 2\n",
    "africa.plot(ax=ax[1], column ='gdp_md_est', legend=True)\n",
    "\n",
    "# give subplot 1 an informative title\n",
    "ax[0].set_title('Population estimate')\n",
    "\n",
    "# give subplot 2 an informative title\n",
    "ax[1].set_title('GDP estimate')\n",
    "\n",
    "# make axis invisible for subplot 1\n",
    "ax[0].set_axis_off()\n",
    "\n",
    "# make axis invisible for subplot 1\n",
    "ax[1].set_axis_off()\n",
    "\n",
    "# show figure\n",
    "plt.show()"
   ]
  },
  {
   "cell_type": "markdown",
   "metadata": {},
   "source": [
    "## Subplots and axes"
   ]
  },
  {
   "attachments": {
    "image.png": {
     "image/png": "[encoded data removed]"
    }
   },
   "cell_type": "markdown",
   "metadata": {},
   "source": [
    "A quick note on the subplot and ax indexing. It can be a little tricky getting your head around the indexing used when creating subplots.\n",
    "To create mulitple subplots you use the code below, specifying firstly the number of rows then the number of columns. <br>\n",
    "<code>.subplots([number of rows], [number of columns])</code>\n",
    "\n",
    "When you are then specifyng each individual plot, you need to specify the axes of the plot, using the code <code> ax=ax[]</code>. The indexing for the axes starts at 0. I.e. the first row is 'row 0' and the first column, 'column 0'. This is illustrated below. \n",
    "![image.png](attachment:image.png)"
   ]
  },
  {
   "attachments": {
    "image.png": {
     "image/png": "[encoded data removed]"
    }
   },
   "cell_type": "markdown",
   "metadata": {},
   "source": [
    "For a set of subplots with just one row you only need to specify the column in the <code>ax=ax[]</code> function. <br>\n",
    "I.e. <code>ax=ax[column number]</code> <br>\n",
    "\n",
    "I.e.<code> plt.subplot(1,2) <br>\n",
    "dataframe.plot(ax=ax[0], ... \n",
    "dataframe.plot(ax=ax[1], ... </code>\n",
    "![image.png](attachment:image.png) "
   ]
  },
  {
   "attachments": {
    "image.png": {
     "image/png": "[encoded data removed]"
    }
   },
   "cell_type": "markdown",
   "metadata": {},
   "source": [
    "Similarly for a set of subplots with just one column you only need to specify the row in the <code>ax=ax[]</code> function. <br>\n",
    "<code> plt.subplot(2,1) <br>\n",
    "dataframe.plot(ax=ax[0], ... \n",
    "dataframe.plot(ax=ax[1], ... </code>\n",
    "</code>\n",
    "![image.png](attachment:image.png)"
   ]
  },
  {
   "attachments": {
    "image.png": {
     "image/png": "[encoded data removed]"
    }
   },
   "cell_type": "markdown",
   "metadata": {},
   "source": [
    "For a set of subplots with just multiple rows and columns you only need to specify both in the <code>ax=ax[,]</code> funciton.(row first then column)<br>\n",
    "<code>plt.subplot(2,3)<br>\n",
    "dataframe.plot(ax=ax[0,0], ... \n",
    "dataframe.plot(ax=ax[0,1], ...\n",
    "dataframe.plot(ax=ax[0,2], ...\n",
    "dataframe.plot(ax=ax[1,0], ...\n",
    "dataframe.plot(ax=ax[1,1], ...\n",
    "dataframe.plot(ax=ax[1,2], ...</code>\n",
    "![image.png](attachment:image.png)"
   ]
  },
  {
   "cell_type": "markdown",
   "metadata": {},
   "source": [
    "<div class=\"alert alert-block alert-warning\">\n",
    "    \n",
    "## Extra task"
   ]
  },
  {
   "cell_type": "markdown",
   "metadata": {},
   "source": [
    "### The data"
   ]
  },
  {
   "cell_type": "code",
   "execution_count": null,
   "metadata": {},
   "outputs": [],
   "source": [
    "usa_cities = gpd.read_file(gplt.datasets.get_path('usa_cities'))\n",
    "contiguous_usa = gpd.read_file(gplt.datasets.get_path('contiguous_usa'))\n",
    "\n",
    "# remove cities in sates not in the contiguous USA (not connected directly to the mainland), for ease of plotting\n",
    "continental_usa_cities = usa_cities.loc[(usa_cities['STATE'] !=\"HI\") & (usa_cities['STATE'] !=\"AK\" ) & (usa_cities['STATE'] !=\"PR\")]\n"
   ]
  },
  {
   "cell_type": "code",
   "execution_count": null,
   "metadata": {
    "scrolled": true
   },
   "outputs": [],
   "source": [
    "continental_usa_cities.head()"
   ]
  },
  {
   "cell_type": "code",
   "execution_count": null,
   "metadata": {},
   "outputs": [],
   "source": [
    "continental_usa_cities.plot()"
   ]
  },
  {
   "cell_type": "code",
   "execution_count": null,
   "metadata": {},
   "outputs": [],
   "source": [
    "contiguous_usa.head()"
   ]
  },
  {
   "cell_type": "code",
   "execution_count": null,
   "metadata": {},
   "outputs": [],
   "source": [
    "contiguous_usa.plot()"
   ]
  },
  {
   "cell_type": "markdown",
   "metadata": {},
   "source": [
    "### Tasks:\n",
    "- check the CRS of both geo data frames\n",
    "- produce a layered map of cities and states\n",
    "- produce a choropleth map of popualation\n",
    "- colour city by state\n",
    "- subset the data to plot a single state e.g. Washington"
   ]
  },
  {
   "cell_type": "markdown",
   "metadata": {},
   "source": [
    "# Exercise 2: Mapping spatial data"
   ]
  },
  {
   "cell_type": "markdown",
   "metadata": {},
   "source": [
    "## Geometric Manipulations "
   ]
  },
  {
   "cell_type": "markdown",
   "metadata": {},
   "source": [
    "### Buffers\n",
    "\n",
    "A buffer in geographic information system (GIS) is a zone around a map feature measured in units of distance or time.\n",
    "\n",
    "In Python we specify the buffer size: the radius of the buffer (in this case size is measured in degrees as the projection is EPSG 4326).\n",
    "\n",
    "E.g.:\n",
    "<code> dataframe.crs ={'init': 'epsg:4326'} </code>\n",
    "\n",
    "<code> dataframe.buffer(distance =10) </code> distance = 10 degrees."
   ]
  },
  {
   "cell_type": "code",
   "execution_count": null,
   "metadata": {},
   "outputs": [],
   "source": [
    "cities.buffer(distance=10).plot();"
   ]
  },
  {
   "cell_type": "markdown",
   "metadata": {},
   "source": [
    "If we want to measure the buffer in meters we can change the projection to [EPSG 3857](https://epsg.io/3857) where the projection unit is meters (rather than degrees). \n",
    "\n",
    "Note: At the world scale this will result in errors in measurement due to the earth curvature. At a smaller scale, depending on where you are mapping other projections are more suitable e.g. [EPSG:4959](https://epsg.io/4959) is used in New Zealand"
   ]
  },
  {
   "cell_type": "code",
   "execution_count": null,
   "metadata": {},
   "outputs": [],
   "source": [
    "#Plot 500 km (500,0000 m) buffer arround cities\n",
    "\n",
    "# plot one subplot (1 map), with dimensions 16 X 8\n",
    "f, ax = plt.subplots(1, figsize=(16, 8))\n",
    "\n",
    "cities.to_crs('epsg:3857').buffer(distance=500000).plot(ax=ax)\n",
    "\n",
    "plt.show()"
   ]
  },
  {
   "cell_type": "markdown",
   "metadata": {},
   "source": [
    "In order to keep information about the area begin buffered in the newly created buffer geo-data-frame it is useful to copy the original data you want to conduct the geometric maipulation on, and name it something else e.g. data_buffer.\n",
    "\n",
    "Then replace the geometry column in the copied data with the calculated buffer geometry.\n",
    "\n",
    "E.g. \n",
    "<code> dataframe_buffer = dataframe.copy() </code>\n",
    "\n",
    "<code> dataframe_buffer['geometry'] = dataframe.buffer(distance)</code>"
   ]
  },
  {
   "cell_type": "code",
   "execution_count": null,
   "metadata": {},
   "outputs": [],
   "source": [
    "# copy the cities dataframe\n",
    "cities_buffer = cities.copy()\n",
    "\n",
    "# apply the function (replacing the geometry column with the buffer geometry)\n",
    "cities_buffer['geometry'] = cities.buffer(10)\n",
    "\n",
    "cities_buffer.head()"
   ]
  },
  {
   "cell_type": "markdown",
   "metadata": {},
   "source": [
    "Note because we copied the cities data frame above the cities_buffer data frame contains the name of the city.\n",
    "\n",
    "<font color = 'orchid'> <b> Try just running the code </b> <code>cities.buffer(10, resolution=10)</code>. </font> \n",
    "    \n",
    "Note we get a geopandas array with the geometry data but not the corresponding city that is being buffered"
   ]
  },
  {
   "cell_type": "code",
   "execution_count": null,
   "metadata": {},
   "outputs": [],
   "source": [
    "# run the code\n",
    "cities.buffer(10, resolution=10)"
   ]
  },
  {
   "cell_type": "markdown",
   "metadata": {},
   "source": [
    "We can add the cities_buffer layer to the map along with the countries and cities layers.\n",
    "\n",
    "<font color = 'orchid'> <b> Run the code below, read the comments to understand what each line of code is doing  </font>"
   ]
  },
  {
   "cell_type": "code",
   "execution_count": null,
   "metadata": {},
   "outputs": [],
   "source": [
    "# plot one subplot (1 map), with dimensions 16 X 8\n",
    "f, ax = plt.subplots(1, figsize=(16, 8))\n",
    "\n",
    "# define the basemap plot it on the sublot axis\n",
    "base = countries.plot(ax=ax, color='grey')\n",
    "\n",
    "# plot the city buffers on the basemap axis, colour buffers blue\n",
    "cities_buffer.plot(ax=base,color='blue', alpha=0.2)\n",
    "\n",
    "# plot the cities on the basemap axis, colour the cities red\n",
    "cities.plot(ax=base,color='red')\n",
    "\n",
    "# shw the map\n",
    "plt.show()"
   ]
  },
  {
   "cell_type": "markdown",
   "metadata": {},
   "source": [
    "### Centroids\n",
    "\n",
    "Put simply the centroid is the center most point of a polygon (there are different debated methods of calculating centroids, but unless you are using centroids for a specific purpose the method should not matter too much). \n",
    "\n",
    "#### Why calculate centroids?\n",
    "\n",
    "Lots of geometric manipulations and analysis use centroids. For example you might use centroids to as a proxy to measure the distance between two polygons.\n",
    "\n",
    "\n",
    "<font color = 'orchid'> <b>Use the code </b> <code> dataframe.centroid </code> <b>to find the country centroids (run the next 3 cells of code for the worked example below) </font>"
   ]
  },
  {
   "cell_type": "code",
   "execution_count": null,
   "metadata": {},
   "outputs": [],
   "source": [
    "# copy the countries dataframe\n",
    "countries_centroid = countries.copy()\n",
    "\n",
    "# calcualte the centorid \n",
    "# and replace the country geometry (polygon) with the centroid geometry (point)\n",
    "countries_centroid['geometry'] = countries.centroid\n",
    "\n",
    "# check - geometry should contain point data\n",
    "countries_centroid.head()"
   ]
  },
  {
   "cell_type": "code",
   "execution_count": null,
   "metadata": {},
   "outputs": [],
   "source": [
    "# plot to check it looks as expected\n",
    "countries_centroid.plot();"
   ]
  },
  {
   "cell_type": "code",
   "execution_count": null,
   "metadata": {
    "scrolled": false
   },
   "outputs": [],
   "source": [
    "# plot one subplot (1 map), with dimensions 16 X 8\n",
    "f, ax = plt.subplots(1, figsize=(16, 8))\n",
    "\n",
    "# define the basemap plot it on the sublot axis\n",
    "base = countries.plot(ax=ax, color='grey')\n",
    "\n",
    "# plot the country centroids on the basemap axis, colour the centroids purple\n",
    "countries_centroid.plot(ax=base,color='purple')\n",
    "\n",
    "# show the map\n",
    "plt.show()"
   ]
  },
  {
   "cell_type": "markdown",
   "metadata": {},
   "source": [
    "We can also change marker size and colour of plotted points to reflect the data they represent (as we did with the chloropleth maps for polygon data). \n",
    "\n",
    "Note as population sizes are large (i.e. millions) I have assigned marker size to 'pop_est'/1,000,000, so the markers are plot-able. \n",
    "\n",
    "<font color = 'orchid'> <b>Run the code below, then try removing or reducing the size of <code>/1000000</code> and see what happens </font>"
   ]
  },
  {
   "cell_type": "code",
   "execution_count": null,
   "metadata": {},
   "outputs": [],
   "source": [
    "# plot one subplot (1 map), with dimensions 16 X 8\n",
    "f, ax = plt.subplots(1, figsize=(16, 8))\n",
    "\n",
    "# define the basemap plot it on the sublot axis\n",
    "base = countries.plot(ax=ax, color='grey')\n",
    "\n",
    "# plot the country centroids on the basemap axis, colour the centroids purple\n",
    "countries_centroid.plot(ax=base,column='pop_est',markersize=countries['pop_est']/1000000, legend=True)\n",
    "\n",
    "# make axis invisible\n",
    "ax.set_axis_off()\n",
    "\n",
    "# show the map\n",
    "plt.show()"
   ]
  },
  {
   "cell_type": "markdown",
   "metadata": {},
   "source": [
    "### Convex hull polygons\n",
    "\n",
    "A convex hull is the smallest polygon that you can draw around a collection of points/a polygon.\n",
    "\n",
    "<font color = 'orchid'> <b>Run the code below to create convex hull polygons (using the code </b><code> dataframe.convex_hull</code><b> around the countries in Africa </font>"
   ]
  },
  {
   "cell_type": "code",
   "execution_count": null,
   "metadata": {},
   "outputs": [],
   "source": [
    "africa_convex_hull = africa.copy()\n",
    "\n",
    "africa_convex_hull['geometry'] = africa.convex_hull\n",
    "\n",
    "# plot one subplot (1 map), with dimensions 16 X 8\n",
    "f, ax = plt.subplots(1, figsize=(16, 8))\n",
    "\n",
    "# define the basemap plot it on the sublot axis\n",
    "base = africa.plot(ax=ax, color='grey')\n",
    "\n",
    "# plot the africa convex hull polygons\n",
    "# .boundary alows us to just plot the polygon outline\n",
    "africa_convex_hull.boundary.plot(ax=base)\n",
    "\n",
    "# make axis invisible\n",
    "ax.set_axis_off()\n",
    "\n",
    "# show the map\n",
    "plt.show()"
   ]
  },
  {
   "cell_type": "markdown",
   "metadata": {},
   "source": [
    "<div class=\"alert alert-block alert-warning\">\n",
    "\n",
    "### Coding task \n",
    "Try: \n",
    "    - Buffering the countries centroids \n",
    "    - Buffering the Africa convex hull polygons \n",
    "    - Getting the centroid of the africa convex hull polygons\n",
    "    - Getting the convex hull polygons of all the countries (note this might look a bit messy)\n",
    "    \n"
   ]
  },
  {
   "cell_type": "markdown",
   "metadata": {},
   "source": [
    "## Spatially aggregating data\n",
    "Often our data will not be at the same spatial scale so we may need to aggregate areas of data together to get them to the same spatial scale. Or we may only be interested in larger spatial trends. Therefore we need to convert our smaller area data to larger area data. In geopandas we can easily so this using the <code>dissolve</code> function. \n",
    "In this example we are going to aggregate countries up to continent level. <br>\n",
    "Think of dissolve as removing all the internal country boarders within the continent to leave just the continent outline.<br>\n",
    "The data for the continent also gets aggregated e.g. estimated population and GDP. <br>\n",
    "<font color='orchid'> <b> Run the code below </font>"
   ]
  },
  {
   "cell_type": "code",
   "execution_count": null,
   "metadata": {
    "scrolled": true
   },
   "outputs": [],
   "source": [
    "# specify which columns from the countries dataframe we are going to aggreagate,\n",
    "# use the continent column to inform the dissolve\n",
    "continents = countries[['continent', 'pop_est', 'geometry','gdp_md_est']].dissolve(by='continent', aggfunc='mean').reset_index()\n",
    "\n",
    "# view the new continents dataframe\n",
    "continents"
   ]
  },
  {
   "cell_type": "markdown",
   "metadata": {},
   "source": [
    "Think carefully about how you want to aggregate the columns, we can assign an aggfunction to each column. For each column we specify which function we want to apply to the aggreagated rows.<br>\n",
    "The <code>{}</code> indicate a dictionary object where a set of objects (keys) are mapped to another set of objects (values)\n",
    "i.e. the column is mapped to the required aggregation method: <code>, aggfunc={'pop_est':'sum','gdp_md_est':'mean'})</code>\n",
    "\n"
   ]
  },
  {
   "cell_type": "code",
   "execution_count": null,
   "metadata": {},
   "outputs": [],
   "source": [
    "continents = countries[['continent', 'pop_est', 'geometry','gdp_md_est']].dissolve(by='continent', aggfunc={'pop_est':'sum','gdp_md_est':'mean'}).reset_index()\n",
    "\n",
    "# view the new continents dataframe\n",
    "continents"
   ]
  },
  {
   "cell_type": "markdown",
   "metadata": {},
   "source": [
    "To solve this we can use <code>.agg({})</code> function to apply [\"one or more operations over the specified axis\"](https://pandas.pydata.org/pandas-docs/stable/reference/api/pandas.DataFrame.agg.html).\n",
    "<br> For each column we specify which function we want to apply to the aggreagated rows.<br>\n",
    "The <code>{}</code> indicate a dictionary object where a set of objects (keys) are mapped to another set of objects (values)\n",
    "i.e. the column is mapped to the required aggregation method.\n",
    "\n",
    "<font color='orchid'> Run the code below and check you understand what it is doing </font>\n",
    "\n",
    "\n",
    "Think carefully about how you want to aggregate the columns, we can assign an aggfunction to each column\n",
    "\n",
    "E.g.\n",
    "<code>, aggfunc={'gdp_md_est':'sum','pop_est':'mean'})</code>\n",
    "\n",
    "There is no quick way to assign multiple columns the same function so with a large dataset you might want to consider which columns you include in the aggregated spatial data frame. \n"
   ]
  },
  {
   "cell_type": "code",
   "execution_count": null,
   "metadata": {},
   "outputs": [],
   "source": [
    "africa_cont = gpd.GeoDataFrame(continents.loc[continents['continent']=='Africa'])\n",
    "africa_cont"
   ]
  },
  {
   "cell_type": "code",
   "execution_count": null,
   "metadata": {},
   "outputs": [],
   "source": [
    "# create a figure with two subplots (maps) \n",
    "f,ax = plt.subplots(3,1, figsize=(12,20),sharex=True, sharey=True)\n",
    "\n",
    "# plot countries mid year GDP estimate\n",
    "countries.plot(ax=ax[0], column ='gdp_md_est', vmin=0,vmax=countries['gdp_md_est'].max() ,legend=True)\n",
    "\n",
    "# plot countinent average mid year GDP estimate, default legend scale\n",
    "continents.plot(ax=ax[1], column ='gdp_md_est', vmin=0,legend=True)\n",
    "\n",
    "# plot countinent average mid year GDP estimate: countries legend scale \n",
    "continents.plot(ax=ax[2], column ='gdp_md_est', vmin=0,vmax=countries['gdp_md_est'].max() ,legend=True)\n",
    "\n",
    "#patch_col = ax[0].collections[0]\n",
    "#cb = f.colorbar(patch_col, ax=ax, shrink=0.5)\n",
    "\n",
    "# make axis invisible for subplots\n",
    "ax[0].set_axis_off()\n",
    "ax[1].set_axis_off()\n",
    "ax[2].set_axis_off()\n",
    "\n",
    "# give subplot 1 an informative title\n",
    "ax[0].set_title('GDP estimate: countries')\n",
    "\n",
    "# give subplot 2 an informative title\n",
    "ax[1].set_title('GDP estimate: continent average (scale=default)')\n",
    "\n",
    "# give subplot 2 an informative title\n",
    "ax[2].set_title('GDP estimate: continent average (scale=contries scale)')\n",
    "\n",
    "# show figure\n",
    "plt.show()"
   ]
  },
  {
   "cell_type": "markdown",
   "metadata": {},
   "source": [
    "<font color= 'orchid'><b>Run the code below to plot a choropleth map of popualtion estimates for the continents</font>"
   ]
  },
  {
   "cell_type": "code",
   "execution_count": null,
   "metadata": {},
   "outputs": [],
   "source": [
    "f,ax = plt.subplots(1, figsize=(16,8))\n",
    "continents.plot(column='pop_est',legend=True, ax=ax)\n",
    "# remove axis\n",
    "ax.set_axis_off()\n",
    "plt.show();"
   ]
  },
  {
   "cell_type": "markdown",
   "metadata": {},
   "source": [
    "<font color='orchid'> <b>Try plotting continents by 'gdp_md_est' </font> <br>\n"
   ]
  },
  {
   "cell_type": "code",
   "execution_count": null,
   "metadata": {},
   "outputs": [],
   "source": [
    "#  plot here!"
   ]
  },
  {
   "cell_type": "markdown",
   "metadata": {},
   "source": [
    "## Joining a non-spatial dataset to a spatial dataset\n",
    "\n",
    "We are going to read in some data about forest coverage of differenet countires and join it to the countires dataframe"
   ]
  },
  {
   "cell_type": "markdown",
   "metadata": {},
   "source": [
    "<font color ='orchid'><b> Run the code below to read in a csv of country forest coverage data </font>"
   ]
  },
  {
   "cell_type": "code",
   "execution_count": null,
   "metadata": {},
   "outputs": [],
   "source": [
    "# read in csv data using pandas\n",
    "forest = pd.read_csv('country_forest.csv')\n",
    "# have a quick look at the dataframe\n",
    "forest.head()"
   ]
  },
  {
   "cell_type": "markdown",
   "metadata": {},
   "source": [
    "The 'country' column in the forest dataframe matches that of the 'name' column in the countries dataframe. As they are formatted in exaclty the same way and each row is unique the country name is a unqiue identifier common to both dataframes. Therefore we will use this column to join our datasets. <br>\n",
    "The code we will use is <code>pd.merge()</code>. We need to specify a few parameteres within the function:<br>\n",
    "\n",
    "- Firstly we specify which dataframes we want to join (in the order we want to join them).<br>\n",
    "<code> pd.merge(countries, forest... </code> <br>\n",
    "\n",
    "\n",
    "- Secondly we need to specify the column in each dataframe, countries is on the left so we specify left_on='name': as we are using the 'name' column from the countires dataframe. And the forest dataframe is on the right so we specify right_on='country' as we are using the 'country' column.<br>\n",
    "<code> pd.merge(countries, forest, left_on='name', right_on='country' ... </code> <br>\n",
    "\n",
    "\n",
    "- Finally we need to specify how the tables are joined. This is based on [SQL join fomats](http://www.complexsql.com/sql-joins-2/). In this case we are using a left join (we keep all the data in the left dataframe and just add the columns form the right dataframe on the end). \n",
    "<code> pd.merge(countries, forest, left_on='name', right_on='country', how='left') </code> <br>"
   ]
  },
  {
   "cell_type": "code",
   "execution_count": null,
   "metadata": {
    "scrolled": false
   },
   "outputs": [],
   "source": [
    "country_forest  = pd.merge(countries, forest,  left_on='name', right_on='country', how='left')\n",
    "country_forest.head()"
   ]
  },
  {
   "cell_type": "markdown",
   "metadata": {},
   "source": [
    "Now we will visualise our newly joined data by plotting the percentage forest in each country"
   ]
  },
  {
   "cell_type": "code",
   "execution_count": null,
   "metadata": {
    "scrolled": false
   },
   "outputs": [],
   "source": [
    "f,ax = plt.subplots(1, figsize=(16,8))\n",
    "country_forest.plot(column='per_forest',legend=True,ax=ax)\n",
    "# remove axis\n",
    "ax.set_axis_off()\n",
    "plt.show();"
   ]
  },
  {
   "cell_type": "markdown",
   "metadata": {},
   "source": [
    "Because thereis such a large variaiton in percentage tree cover the above map with a continuous scale doesn't tell us much. To make a more informative plot we can use <code> scheme = ' '</code> \n",
    "And use <code> ['equal_interval', 'quantiles', 'fisher_jenks', 'fisher_jenks_sampled']</code> to define how the choropleth map is scaled."
   ]
  },
  {
   "cell_type": "code",
   "execution_count": null,
   "metadata": {},
   "outputs": [],
   "source": [
    "f,ax = plt.subplots(1, figsize=(16,8))\n",
    "country_forest.plot(column='per_forest',legend=True,cmap='Greens',scheme='equal_interval', ax=ax)\n",
    "# remove axis\n",
    "ax.set_axis_off()\n",
    "# position axis\n",
    "ax.get_legend().set_bbox_to_anchor((.12, .4))\n",
    "ax.set_title('Percentage Forest')\n",
    "plt.show();"
   ]
  },
  {
   "cell_type": "markdown",
   "metadata": {},
   "source": [
    "<font color='orchid'><b> Write your own code to map 'forest_area_km2'</font> <br>\n"
   ]
  },
  {
   "cell_type": "code",
   "execution_count": null,
   "metadata": {
    "scrolled": false
   },
   "outputs": [],
   "source": [
    "# plot here!\n"
   ]
  },
  {
   "cell_type": "markdown",
   "metadata": {},
   "source": [
    "## Spatially Joining Data\n",
    "\n",
    "It is also possible to join data based on their spatial relationship to each other using <code>.sjoin()</code>\n",
    "For example we ight want to know the country each city is in.\n",
    "\n",
    "\n",
    "Like with <code>pd.merge()</code> there are parameters we need to specify when using <code>gpd.sjoin()</code>\n",
    "\n",
    "- Again firstly we specify which dataframes we want to join (in the order we want to join them).<br>\n",
    "<code>gpd.sjoin(cities, countries, ... </code> <br>\n",
    "\n",
    "\n",
    "- Secondly we need to specify how the tables are joined. (Again based on [SQL join fomats](http://www.complexsql.com/sql-joins-2/)). In this case we are using an inner join\n",
    "<code> gpd.sjoin(cities, countries, how=\"inner\",... </code> <br>\n",
    "\n",
    "- Finally we need to specify the tyep of spatial join using 'op'. From the [Geopandas documentation](http://geopandas.org/mergingdata.html) <br>\n",
    "<i>The `op argument specifies how geopandas decides whether or not to join the attributes of one object to another. There are three different join options as follows:\n",
    "    - <b>intersects:</b> The attributes will be joined if the boundary and interior of the object intersect in any way with the boundary and/or interior of the other object.\n",
    "    - <b>within:</b> The attributes will be joined if the object’s boundary and interior intersect only with the interior of the other object (not its boundary or exterior).\n",
    "    - <b>contains:</b> The attributes will be joined if the object’s interior contains the boundary and interior of the other object and their boundaries do not touch at all. </i> <br>\n",
    "    \n",
    "<font color = 'orchid'><b> Run the code below to spatially join the data </font>"
   ]
  },
  {
   "cell_type": "code",
   "execution_count": null,
   "metadata": {},
   "outputs": [],
   "source": [
    "cities_with_country = gpd.sjoin(cities, countries, how=\"inner\", op='intersects')\n",
    "cities_with_country.head()"
   ]
  },
  {
   "cell_type": "code",
   "execution_count": null,
   "metadata": {
    "scrolled": true
   },
   "outputs": [],
   "source": [
    "# let us plot the cities now coloured by the continent (a column initally from the cities dataframe)\n",
    "f,ax = plt.subplots(1, figsize=(16,8))\n",
    "\n",
    "# map the countries (basemap)\n",
    "base = continents.plot(ax=ax, cmap='Dark2')\n",
    "# plot the cities and colour them based on continent\n",
    "cities_with_country.plot(column='continent',ax=base, cmap='Spectral')\n",
    "# remove axis\n",
    "ax.set_axis_off()\n",
    "plt.show()"
   ]
  },
  {
   "cell_type": "markdown",
   "metadata": {},
   "source": [
    "Try doing the same for US cities and states:"
   ]
  },
  {
   "cell_type": "code",
   "execution_count": null,
   "metadata": {},
   "outputs": [],
   "source": [
    "# have a go here"
   ]
  },
  {
   "cell_type": "markdown",
   "metadata": {},
   "source": [
    "## Overlay - creating spatial layers from the intersections, unions, and differences between map\n",
    "I have included this for reference with a worked example, to show you how we can look at where spatial data overlaps. Full description an a list of the overlay operations can be found here: https://geopandas.org/set_operations.html\n",
    "Have a read and explore the data"
   ]
  },
  {
   "cell_type": "code",
   "execution_count": null,
   "metadata": {
    "scrolled": false
   },
   "outputs": [],
   "source": [
    "countries_in_buff =gpd.overlay(cities_buffer , countries, how='intersection')\n",
    "countries_in_buff"
   ]
  },
  {
   "cell_type": "code",
   "execution_count": null,
   "metadata": {},
   "outputs": [],
   "source": [
    "f,ax = plt.subplots(1, figsize=(16,8))\n",
    "\n",
    "base = countries.plot(ax=ax,color='grey')\n",
    "countries_in_buff.plot(ax=base, column='name_1',alpha=0.8)\n",
    "# remove axis\n",
    "ax.set_axis_off()\n",
    "plt.show();"
   ]
  },
  {
   "cell_type": "markdown",
   "metadata": {},
   "source": [
    "## Some other interesting maps"
   ]
  },
  {
   "cell_type": "markdown",
   "metadata": {},
   "source": [
    "### Introducing geoplot: geospatial data visualization\n",
    "\n",
    "package<i>'Geoplot is a high-level Python geospatial plotting library. It’s an extension to cartopy and matplotlib which makes mapping easy: like seaborn for geospatial. It comes with the following features:'</i>\n",
    "\n",
    "Geoplot has many of the same functions that we have already used in visualising our maps, but also has some additional mapping features. Learn more here: https://residentmario.github.io/geoplot/plot_references/plot_reference.html"
   ]
  },
  {
   "cell_type": "markdown",
   "metadata": {},
   "source": [
    "### Kernel density map\n",
    "\n",
    "Much like the kernel density plots we produced in day 1 this produces a kernel density estimate of spatial point data. "
   ]
  },
  {
   "cell_type": "code",
   "execution_count": null,
   "metadata": {
    "scrolled": true
   },
   "outputs": [],
   "source": [
    "f,ax = plt.subplots(1, figsize=(16,8))\n",
    "\n",
    "# map the countries (basemap)\n",
    "base = continents.plot(ax=ax, color='grey')\n",
    "\n",
    "# map the kernel density estimate of world cities\n",
    "gplt.kdeplot(cities, cmap=\"Reds\", shade=True,ax=base, alpha=0.8)\n",
    "\n",
    "# remove axis\n",
    "ax.set_axis_off()\n",
    "\n",
    "plt.show()"
   ]
  },
  {
   "cell_type": "markdown",
   "metadata": {},
   "source": [
    "### Cartogram\n",
    "\n",
    "A cartogram distorts (grows or shrinks) polygons on a map according to the magnitude of some input data. E.g. we could resize countries based on their population size"
   ]
  },
  {
   "cell_type": "code",
   "execution_count": null,
   "metadata": {
    "scrolled": true
   },
   "outputs": [],
   "source": [
    "f,ax = plt.subplots(1, figsize=(16,8))\n",
    "\n",
    "# map the countries (basemap)for refernce\n",
    "base = continents.plot(ax=ax, color='grey')\n",
    "\n",
    "# map the countries resized by popualtion estimate\n",
    "gplt.cartogram(countries, scale='pop_est', hue='pop_est',ax=ax)\n",
    "\n",
    "# remove axis\n",
    "ax.set_axis_off()\n",
    "\n",
    "plt.show()"
   ]
  },
  {
   "cell_type": "markdown",
   "metadata": {},
   "source": [
    "<font color ='orchid'><b> Write your own code to resize countries by GDP </font>"
   ]
  },
  {
   "cell_type": "code",
   "execution_count": null,
   "metadata": {},
   "outputs": [],
   "source": [
    "# Write your own code to resize countries by GDP\n"
   ]
  },
  {
   "cell_type": "markdown",
   "metadata": {},
   "source": [
    "<font color ='orchid'><b> Write your own code to resize countries by forest area per km2 </font>"
   ]
  },
  {
   "cell_type": "code",
   "execution_count": null,
   "metadata": {},
   "outputs": [],
   "source": [
    "# Write your own code to resize countries by forest_area_km2\n"
   ]
  },
  {
   "cell_type": "markdown",
   "metadata": {},
   "source": [
    "### Adding base maps\n",
    "Base maps provide the reader with context for a map. At a smaller scale than we are currently using the basemap may show road networks or point of interest. \n",
    "\n",
    "We are going to use contextily to add the background map to the geographic data using the <code>.basemap()</code> function. \n",
    "\n",
    "#### Aligning the CRS\n",
    "But first we need to convert the CRS of the data we want to plot to the Web Mercator projection (epsg=3857). So the base maps and geographic data we are plotting align. \n",
    "\n",
    "Unless the data file I want to plot is particularly big I tend to save the data with the Web Mercator projection as a new geodataframe to avoid confusion."
   ]
  },
  {
   "cell_type": "code",
   "execution_count": null,
   "metadata": {
    "scrolled": false
   },
   "outputs": [],
   "source": [
    "# convert CRS to epsg=3857 Web Mercator\n",
    "africa_WM = africa.to_crs(epsg=3857)\n",
    "\n",
    "\n",
    "f,ax = plt.subplots(1, figsize=(16,16))\n",
    "\n",
    "# plot the africa data as usual \n",
    "africa_WM .plot( alpha=0.5,column='pop_est',ax=ax)\n",
    "\n",
    "# add ctx basemap to ax\n",
    "ctx.add_basemap(ax)\n",
    "\n",
    "ax.set_axis_off()"
   ]
  },
  {
   "cell_type": "markdown",
   "metadata": {},
   "source": [
    "#### Different base maps.\n",
    "By default ctx.add_basemap() uses the Stamen Terrain style.\n",
    "\n",
    "To see the available different base maps we can get the provider keys:"
   ]
  },
  {
   "cell_type": "markdown",
   "metadata": {},
   "source": [
    "List of contextily providers:"
   ]
  },
  {
   "cell_type": "code",
   "execution_count": null,
   "metadata": {
    "scrolled": false
   },
   "outputs": [],
   "source": [
    "ctx.providers.keys()"
   ]
  },
  {
   "cell_type": "markdown",
   "metadata": {},
   "source": [
    "Each will have their own options, accessed by the code: <code> ctx.providers.<text color='red'>provider_from_above</font>.keys()</code>\n",
    "\n",
    "E.g. <code> ctx.providers.OpenStreetMap.keys()</code>"
   ]
  },
  {
   "cell_type": "code",
   "execution_count": null,
   "metadata": {},
   "outputs": [],
   "source": [
    "ctx.providers.OpenStreetMap.keys()"
   ]
  },
  {
   "cell_type": "markdown",
   "metadata": {},
   "source": [
    "We can then use the provider and porvider options to choose our base map e.g. <code>OpenStreetMap.Mapnik</code>"
   ]
  },
  {
   "cell_type": "code",
   "execution_count": null,
   "metadata": {
    "scrolled": false
   },
   "outputs": [],
   "source": [
    "import contextily as ctx\n",
    "\n",
    "f,ax = plt.subplots(1, figsize=(16,16))\n",
    "\n",
    "# plot the africa data as usual \n",
    "africa_WM .plot(figsize=(10, 10), alpha=0.2,column='pop_est',ax=ax)\n",
    "\n",
    "# add ctx basemap to ax, specifying the basemap provider and options\n",
    "ctx.add_basemap(ax,url=ctx.providers.OpenStreetMap.Mapnik)\n",
    "\n",
    "ax.set_axis_off()\n"
   ]
  },
  {
   "cell_type": "markdown",
   "metadata": {},
   "source": [
    "<font color='orchid'><b>  Play around with the providers and options to get different base maps."
   ]
  },
  {
   "cell_type": "code",
   "execution_count": null,
   "metadata": {},
   "outputs": [],
   "source": []
  },
  {
   "cell_type": "code",
   "execution_count": null,
   "metadata": {},
   "outputs": [],
   "source": []
  },
  {
   "cell_type": "code",
   "execution_count": null,
   "metadata": {},
   "outputs": [],
   "source": []
  },
  {
   "cell_type": "code",
   "execution_count": null,
   "metadata": {},
   "outputs": [],
   "source": []
  },
  {
   "cell_type": "code",
   "execution_count": null,
   "metadata": {},
   "outputs": [],
   "source": []
  },
  {
   "cell_type": "code",
   "execution_count": null,
   "metadata": {},
   "outputs": [],
   "source": []
  },
  {
   "cell_type": "code",
   "execution_count": null,
   "metadata": {},
   "outputs": [],
   "source": []
  },
  {
   "cell_type": "markdown",
   "metadata": {},
   "source": [
    "#### Using geoplot to add a basemap\n",
    "\n",
    "We can also use the geoplot package to add base maps"
   ]
  },
  {
   "cell_type": "code",
   "execution_count": null,
   "metadata": {
    "scrolled": false
   },
   "outputs": [],
   "source": [
    "import geoplot.crs as gcrs\n",
    "\n",
    "# specify basemap (webmap) including projection\n",
    "# using geoplot we specify the figure size in the function\n",
    "ax = gplt.webmap(africa, projection=gcrs.WebMercator(),figsize=(12, 12),)\n",
    "\n",
    "# plot a chlorolpeth of africa by popualtion estiamte\n",
    "gplt.choropleth(africa, ax=ax, hue='pop_est', legend=True, alpha=0.5);"
   ]
  }
 ],
 "metadata": {
  "kernelspec": {
   "display_name": "Python 3",
   "language": "python",
   "name": "python3"
  },
  "language_info": {
   "codemirror_mode": {
    "name": "ipython",
    "version": 3
   },
   "file_extension": ".py",
   "mimetype": "text/x-python",
   "name": "python",
   "nbconvert_exporter": "python",
   "pygments_lexer": "ipython3",
   "version": "3.7.4"
  },
  "toc": {
   "base_numbering": 1,
   "nav_menu": {},
   "number_sections": true,
   "sideBar": true,
   "skip_h1_title": false,
   "title_cell": "Table of Contents",
   "title_sidebar": "Contents",
   "toc_cell": false,
   "toc_position": {
    "height": "calc(100% - 180px)",
    "left": "10px",
    "top": "150px",
    "width": "376.4705810546875px"
   },
   "toc_section_display": true,
   "toc_window_display": true
  }
 },
 "nbformat": 4,
 "nbformat_minor": 2
}
