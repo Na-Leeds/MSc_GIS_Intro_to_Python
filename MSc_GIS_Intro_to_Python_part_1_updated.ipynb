{
  "cells": [
    {
      "cell_type": "markdown",
      "metadata": {
        "id": "view-in-github",
        "colab_type": "text"
      },
      "source": [
        "<a href=\"https://colab.research.google.com/github/Na-Leeds/MSc_GIS_Intro_to_Python/blob/main/MSc_GIS_Intro_to_Python_part_1_updated.ipynb\" target=\"_parent\"><img src=\"https://colab.research.google.com/assets/colab-badge.svg\" alt=\"Open In Colab\"/></a>"
      ]
    },
    {
      "cell_type": "markdown",
      "metadata": {
        "id": "2_vszaASKCV7"
      },
      "source": [
        "#  Introduction to Python (session 1) <a class=\"tocSkip\">\n",
        "\n",
        "Content adapted from Francesca Pontin's Intrduction to Python Course (please contact: F.L.Pontin@leeds.ac.uk) <a class=\"tocSkip\">"
      ]
    },
    {
      "cell_type": "markdown",
      "metadata": {
        "id": "fBc3OGfPKCV8"
      },
      "source": [
        "# What is Python? Getting started\n",
        "In this session we will cover:\n",
        "- User interfaces\n",
        "- Packages, modules etc.\n",
        "- Data types"
      ]
    },
    {
      "cell_type": "markdown",
      "metadata": {
        "id": "k2gT4_JfKCV8"
      },
      "source": [
        "## Using Jupyter notebooks\n",
        "\n",
        "Welcome to coding in Python! This course is designed to introduce you to the basics of coding in Python and then get you to apply your new found coding skills to carry out some data analytics!\n",
        "This session is written in a Jupyter Notebook. A Jupyter Notebook [\"is an open source web application that you can use to create and share documents that contain live code, equations, visualizations, and text\"](https://realpython.com/jupyter-notebook-introduction/).\n",
        "\n",
        "A Jupyter Notebook is made up of cells. These cells can be text (known as markdown), code or visulisations/images, to name a few.\n",
        "To select and edit a cell click anywhere in the box. <br>"
      ]
    },
    {
      "cell_type": "markdown",
      "metadata": {
        "id": "rm45N9w7KCV9"
      },
      "source": [
        "During this session you will read through the Jupyter Notebok, running sections of code yourself to learn key data analysis skills. There will also be places to edit and write your own code within the notebook.\n",
        "\n",
        "#### <font color='orchid'>Instructions and tasks for you to complete are in purple</font> <a class=\"tocSkip\">\n",
        "    \n",
        "#### Where you have to write your own code answers are provided at the end of the section <a class=\"tocSkip\">\n",
        "\n",
        "### How to run a cell of code\n",
        "To run code select the cell you want to run and type CTRL + ENTER on your key board (Command + enter for mac), or click the arrow symbol at the beginning of each cell.\n"
      ]
    },
    {
      "cell_type": "markdown",
      "metadata": {
        "id": "rqCuqjtJKCV-"
      },
      "source": [
        "### How do I know if I have run the cell?\n",
        "If the cell of code has been run a number will appear in squared brackets by the cell e.g. <code>In [1]: or In [12]:</code>\n",
        "\n",
        "The numbering refers to the order in which you have run the cells\n",
        "\n",
        "An un-run cell of code has an empty set of squared brackets by the cell I.e. <code>In []:</code>"
      ]
    },
    {
      "cell_type": "markdown",
      "metadata": {
        "id": "_w1udzpmKCV-"
      },
      "source": [
        "### How do I add a new cell?<a id='new_cell'></a>\n",
        "\n",
        "To add a new cell select a cell and type 'b' to add a cell bellow or 'a' to add a cell above.\n",
        "\n",
        "To delete a cell select it and click the bin symbol on the right side.\n",
        "\n",
        "To change the order of cells by using the up and down arrows."
      ]
    },
    {
      "cell_type": "markdown",
      "metadata": {
        "id": "Zoh8Y07iKCV-"
      },
      "source": [
        "## Hello World"
      ]
    },
    {
      "cell_type": "markdown",
      "metadata": {
        "id": "nURPRm1DKCV_"
      },
      "source": [
        "Following coding tradition the first thing we are going to program is to print the words \"Hello World\".\n",
        "\n",
        "The <code>print() </code> function prints the specified message to your screen\n",
        "\n",
        "The speech marks <code>\" \"</code> arround Hello World let python know you are typing text (also known as a string).\n",
        "\n",
        " <font color='orchid'> <b>Run the code below</b></font>"
      ]
    },
    {
      "cell_type": "code",
      "execution_count": null,
      "metadata": {
        "id": "Yonzn6u-KCWA"
      },
      "outputs": [],
      "source": [
        "print(\"Hello World\")"
      ]
    },
    {
      "cell_type": "markdown",
      "metadata": {
        "id": "zQ9g-o4qKCWA"
      },
      "source": [
        "## Basic maths"
      ]
    },
    {
      "cell_type": "markdown",
      "metadata": {
        "id": "IlccmY_3KCWB"
      },
      "source": [
        "Lets do some basic maths\n",
        "<br><font color='orchid'> <b>Run the code below</b></font>"
      ]
    },
    {
      "cell_type": "code",
      "execution_count": null,
      "metadata": {
        "id": "uznjt9J8KCWB"
      },
      "outputs": [],
      "source": [
        "2+2"
      ]
    },
    {
      "cell_type": "markdown",
      "metadata": {
        "id": "3DKr1vRRKCWB"
      },
      "source": [
        "If we print 2+2 we get the same thing\n",
        "<br> <font color='orchid'> <b>Run the code below</b></font>"
      ]
    },
    {
      "cell_type": "code",
      "execution_count": null,
      "metadata": {
        "id": "K8-NsUYwKCWB"
      },
      "outputs": [],
      "source": [
        "print(2+2)"
      ]
    },
    {
      "cell_type": "markdown",
      "metadata": {
        "id": "CzebLSkuKCWB"
      },
      "source": [
        "If we <code>print(\"2+2\")</code> however we get the characters 2 + 2 as the speach marks tell Python we are typing text and not numerical characters\n",
        "\n",
        "\n",
        "<br> <font color='orchid'> <b>Run the code below</b></font> and see for yourself"
      ]
    },
    {
      "cell_type": "code",
      "execution_count": null,
      "metadata": {
        "scrolled": true,
        "id": "WoMu9CmVKCWC"
      },
      "outputs": [],
      "source": [
        "print(\"2+2\")\n"
      ]
    },
    {
      "cell_type": "markdown",
      "metadata": {
        "id": "QOSNH5GdKCWC"
      },
      "source": [
        "## Assigning values to variables\n",
        "\n",
        "We can also assign the sum 2+2 to a variable.\n",
        "\n",
        "In this case we have named the variable <font color='blue'>answer</font>. We can now type <font color='blue'>answer</font> instead of 2+2 every time.\n",
        "\n",
        "<br> <font color='orchid'> <b>To assign 2+2 to the variable answer run the code below</b></font>"
      ]
    },
    {
      "cell_type": "code",
      "execution_count": null,
      "metadata": {
        "id": "N4KiNxV8KCWC"
      },
      "outputs": [],
      "source": [
        "answer = 2+2\n",
        "print(answer)"
      ]
    },
    {
      "cell_type": "markdown",
      "metadata": {
        "id": "yh6nZ11kKCWD"
      },
      "source": [
        "We can also add our created variable to a new equation\n",
        "<br> <font color='orchid'> <b>To add 5 to the variable answer run the code below</b></font>"
      ]
    },
    {
      "cell_type": "code",
      "execution_count": null,
      "metadata": {
        "id": "-O62qL_YKCWD"
      },
      "outputs": [],
      "source": [
        "# we can also add our created variable to a new equation\n",
        "answer + 5"
      ]
    },
    {
      "cell_type": "markdown",
      "metadata": {
        "id": "eGjpAehYKCWD"
      },
      "source": [
        "NOTE: <code>#</code> When a hashtag is added to a line of code the rest of that line is not treated as code.\n",
        "This can be used to add comments to your code so you know what it is doing (especially useful when you come back to it later on!)"
      ]
    },
    {
      "cell_type": "markdown",
      "metadata": {
        "id": "YzewYPzxKCWD"
      },
      "source": [
        "## Lists\n",
        "\n",
        "Remember lists are an ordered collection of one or more data item.  Defined by square brackets <code>[]</code>\n",
        "\n",
        "<br> <font color='orchid'> <b>Look back at the lecture notes and create a list called fruit with the following data items: 'apple', 'pear', 'banana', 'strawberry' (note these are strings)</b></font>"
      ]
    },
    {
      "cell_type": "code",
      "execution_count": null,
      "metadata": {
        "id": "yiSKpWYiKCWD"
      },
      "outputs": [],
      "source": [
        "# Type code here\n",
        "fruit = ['apple', 'pear', 'banana', 'strawberry']\n",
        "print(fruit)"
      ]
    },
    {
      "cell_type": "markdown",
      "metadata": {
        "id": "QnkEXyeyKCWD"
      },
      "source": [
        "We can check that you have created a list using the <code>type</code> function\n",
        "\n",
        "<br> <font color='orchid'> <b>Enter <code> type(fruit) </code> into the cell below</b></font>"
      ]
    },
    {
      "cell_type": "code",
      "execution_count": null,
      "metadata": {
        "scrolled": true,
        "id": "854DkvxeKCWE"
      },
      "outputs": [],
      "source": [
        "# run this code\n",
        "type(fruit)"
      ]
    },
    {
      "cell_type": "markdown",
      "metadata": {
        "id": "WRTncOpZKCWE"
      },
      "source": [
        "### Lists and basic maths\n",
        "\n",
        "We can also create a list of numbers.  <br> <font color='orchid'> <b>Run the code below </b></font>. What happens when we try to multiply the list by 3?"
      ]
    },
    {
      "cell_type": "code",
      "execution_count": null,
      "metadata": {
        "id": "0NoHwlsQKCWE"
      },
      "outputs": [],
      "source": [
        "numbers = [1,3,5,7,9,11]\n",
        "numbers*3"
      ]
    },
    {
      "cell_type": "markdown",
      "metadata": {
        "id": "h3cD9jDAKCWE"
      },
      "source": [
        "### List comprehension\n",
        "\n",
        "To multiply each item in the list (and create a new list of the results) we need to select each value <code>i</code> in the list:\n",
        "<code>[i*3 for i in numbers]</code>\n",
        "\n",
        "I.e. for each element 1 to i in the list named numbers, multiply that element by 3\n",
        "\n",
        "<br> <font color='orchid'> <b> Run the code to see</b></font>"
      ]
    },
    {
      "cell_type": "code",
      "execution_count": null,
      "metadata": {
        "scrolled": true,
        "id": "Cu3Ho15SKCWE"
      },
      "outputs": [],
      "source": [
        "# multiply element by 3, repeat for every element in the list 'numbers'\n",
        "new_numbers = [i*3 for i in numbers]\n",
        "\n",
        "# print the new list\n",
        "print(new_numbers)"
      ]
    },
    {
      "cell_type": "markdown",
      "metadata": {
        "id": "UJpZQEbSKCWF"
      },
      "source": [
        "<div class=\"alert alert-block alert-warning\">\n",
        "\n",
        "### A very quick introduction to for loops\n",
        "\n",
        "Making a list based on an old list is known as list comprehension. An alternative is a for loop as shown below.\n",
        "\n",
        "We will come back to these later, so for now just <font color='orchid'> <b> run the code and read the comments explaining what each step does. </b></font>"
      ]
    },
    {
      "cell_type": "code",
      "execution_count": null,
      "metadata": {
        "id": "Oep_U9_QKCWF"
      },
      "outputs": [],
      "source": [
        "# create a new empty list\n",
        "my_new_list = []\n",
        "\n",
        "# for element in the list 'numbers':\n",
        "for i in numbers:\n",
        "    # multiply element by 3 and append the result to the new empty list\n",
        "    my_new_list.append(i * 3)\n",
        "\n",
        "# print the new list\n",
        "print(my_new_list)"
      ]
    },
    {
      "cell_type": "markdown",
      "metadata": {
        "id": "lYJGJV4pKCWF"
      },
      "source": [
        "We can also multiply by another defined variable. For example we previously defined the variable <code>answer</code> (<code>answer = 2+2</code>)"
      ]
    },
    {
      "cell_type": "code",
      "execution_count": null,
      "metadata": {
        "scrolled": true,
        "id": "hxc3tBakKCWF"
      },
      "outputs": [],
      "source": [
        "# multiply element by variable 'answer', repeat for every element in the list 'numbers'\n",
        "[i*answer for i in numbers]"
      ]
    },
    {
      "cell_type": "markdown",
      "metadata": {
        "id": "Cn-Ih9r5KCWF"
      },
      "source": [
        "Commonly you will see <code>i</code> and <code>j</code> to define elements in a list. However this is just convention and you could use anything you wanted to refer to the elements in the list e.g. <code>elephants</code>\n",
        "\n",
        "(Though typing <code>i</code> is a lot quicker)"
      ]
    },
    {
      "cell_type": "code",
      "execution_count": null,
      "metadata": {
        "scrolled": true,
        "id": "Dvc8F1IzKCWG"
      },
      "outputs": [],
      "source": [
        "# multiply element by 3, repeat for every element in the list 'numbers'\n",
        "[elephants*3 for elephants in numbers]"
      ]
    },
    {
      "cell_type": "markdown",
      "metadata": {
        "id": "FQLMldpUKCWG"
      },
      "source": [
        "## First look at data frames\n",
        "\n",
        "### .head() and .tail() functions\n",
        "To understand how to explore data frames and different data types in python we are going to use a set of data about passengers on the titanic. This is an example dataset built into the seaborn python package.\n",
        "\n",
        "We will go into detail about reading in data and loading packages in the next exercise, <font color='orchid'> <b>for now run the cell of code below. </b></font>\n",
        "\n",
        "Note the <code>.head()</code> function shows the top 5 lines of the data frame."
      ]
    },
    {
      "cell_type": "code",
      "execution_count": null,
      "metadata": {
        "id": "g-yXy37WKCWG"
      },
      "outputs": [],
      "source": [
        "# Import the seaborn package\n",
        "import seaborn as sns\n",
        "\n",
        "# load the titanic example dataset and save it as a dataframe named titanic\n",
        "titanic = sns.load_dataset('titanic')\n",
        "\n",
        "# look at the first 5 rows of the dataframe\n",
        "titanic.head()"
      ]
    },
    {
      "cell_type": "code",
      "source": [
        "titanic.head(n=2)"
      ],
      "metadata": {
        "id": "Hc8RnJLlf_cm"
      },
      "execution_count": null,
      "outputs": []
    },
    {
      "cell_type": "markdown",
      "metadata": {
        "id": "BLsfdMEyKCWG"
      },
      "source": [
        "Note NaN denotes a cell containing no data - a null cell"
      ]
    },
    {
      "cell_type": "markdown",
      "metadata": {
        "id": "CRnbczOJKCWG"
      },
      "source": [
        "<font color='orchid'> <b> Try entering and running <code>titanic.tail()</code> instead of <code>.head()</code> in the cell below. </b></font> What view of the dataframe do you think you are now seeing?"
      ]
    },
    {
      "cell_type": "code",
      "execution_count": null,
      "metadata": {
        "id": "UP023IkFKCWG"
      },
      "outputs": [],
      "source": [
        "# enter the instructed code here\n",
        "titanic.tail()"
      ]
    },
    {
      "cell_type": "markdown",
      "metadata": {
        "id": "Aw9qF_gZKCWG"
      },
      "source": [
        "<div class=\"alert alert-block alert-info\">\n",
        "    \n",
        "<I> A Quick description of the titanic data variables:\n",
        "- <b>survival:</b>    If the passenger survived\n",
        "- <b>PassengerId:</b> Unique Id of a passenger.\n",
        "- <b>pclass:</b>    Ticket class\n",
        "- <b>sex:</b>   Sex     \n",
        "- <b>Age:</b>   Age in years     \n",
        "- <b>sibsp:</b>    Number of siblings / spouses aboard the Titanic     \n",
        "- <b>parch:</b>   Number of parents / children aboard the Titanic     \n",
        "- <b>ticket:</b>   Ticket number     \n",
        "- <b>fare:</b>   Cost of the passenger fare     \n",
        "- <b>cabin:</b>  Cabin number     \n",
        "- <b>embarked:</b>    Port of Embarkation</I>"
      ]
    },
    {
      "cell_type": "markdown",
      "metadata": {
        "id": "iVMc6738KCWG"
      },
      "source": [
        "### Data frame columns\n",
        "\n",
        "We might just want to get a list of the columns in the dataframe to give us a quick idea of what data we have present. To do this we can use the <code>.columns</code> function after we name the dataframe.\n",
        "\n",
        "<font color='orchid'> <b> Enter <code>titanic.columns</code> in the cell below. </b></font>. The columns listed should be the same as the columns in the <code>.head()</code> view of the dataframe.\n"
      ]
    },
    {
      "cell_type": "code",
      "execution_count": null,
      "metadata": {
        "id": "3XSpE_2UKCWH"
      },
      "outputs": [],
      "source": [
        "# enter the code here\n",
        "titanic.columns"
      ]
    },
    {
      "cell_type": "markdown",
      "metadata": {
        "id": "zTagMgbkKCWH"
      },
      "source": [
        "Referring to a column in a dataframe\n",
        "\n",
        "If we want to select a single column of the dataframe we can also do that.\n",
        "\n",
        "There are several ways to refer to a column in a pandas dataframe.\n",
        "\n",
        "The easiest way is by putting the name of the column in square barckets and speech marks <code>[' ']</code> or <code>[\" \"]</code> after the name of the dataframe.\n",
        "e.g. <code><font color='blue'>dataframe_name</font>[\"<font color='blue'>column_name</font>\"]</code>\n",
        "    \n",
        "<font color='orchid'> <b> Try to select the 'fare' column from the titanic dataframe."
      ]
    },
    {
      "cell_type": "code",
      "source": [
        "# enter the code here\n",
        "titanic[\"fare\"]"
      ],
      "metadata": {
        "id": "umwVw1H9pkGM"
      },
      "execution_count": null,
      "outputs": []
    },
    {
      "cell_type": "code",
      "execution_count": null,
      "metadata": {
        "id": "b6UHIfNuKCWH"
      },
      "outputs": [],
      "source": [
        "# Now, select two columns 'fare' and 'alive', enter the code here (tip: use a list)\n",
        "titanic[[\"fare\",\"alive\"]]"
      ]
    },
    {
      "cell_type": "markdown",
      "metadata": {
        "id": "P-XRI13WKCWH"
      },
      "source": [
        "*Note: To save space only a snapshot of the column is shown and not all the rows"
      ]
    },
    {
      "cell_type": "markdown",
      "metadata": {
        "id": "LNbeJEdmKCWH"
      },
      "source": [
        "### Data frame index\n",
        "When we type <code> dataframe_name[\"column_name\"]</code> we get the values of the column but we also see the index (the row names). In this case the rows are just numbered 0:890. But these could be other values such as passenger names.\n",
        "\n",
        "Python indexing starts at 0 not 1. So the first row is row 0 and the first column column 0.\n",
        "\n",
        "<code>.index</code> works the same as <code>.columns</code> but this time shows the row names.\n",
        "\n",
        "<font color='orchid'> <b> Run <code>titanic.index</code> in the cell bellow </font>"
      ]
    },
    {
      "cell_type": "code",
      "execution_count": null,
      "metadata": {
        "id": "HqYzS5CtKCWI"
      },
      "outputs": [],
      "source": [
        "# enter the code here\n",
        "titanic.index"
      ]
    },
    {
      "cell_type": "markdown",
      "metadata": {
        "id": "YQo3tSnXKCWI"
      },
      "source": [
        "We can see the index starts at 0, stops after 891 enteries and increases by a step of 1 for each row."
      ]
    },
    {
      "cell_type": "markdown",
      "metadata": {
        "id": "p3ARVMoLKCWI"
      },
      "source": [
        "### Data frame shape\n",
        "To get the number of rows and columns of a dataframe we can use <code>.shape</code>\n",
        "\n",
        "<font color='orchid'> <b> Run <code>titanic.shape</code> in the cell bellow </font>"
      ]
    },
    {
      "cell_type": "code",
      "execution_count": null,
      "metadata": {
        "id": "DC24HZNlKCWI"
      },
      "outputs": [],
      "source": [
        "# enter the code here\n",
        "titanic.shape"
      ]
    },
    {
      "cell_type": "markdown",
      "metadata": {
        "id": "rv-UxqFQKCWI"
      },
      "source": [
        "## Data Types\n",
        "\n",
        "### Data types recap\n",
        "\n",
        "As we covered in the lecture there are different types of data:\n",
        "\n",
        "<b>Objects:</b> also known as strings or written characters/text in plain english e.g. Hello World\n",
        "\n",
        "<b>Intergers:</b> Whole numbers e.g. 2, 57 or 109567835\n",
        "\n",
        "<b>Floats:</b> A number with a decimal place e.g. 2.34534, 5.5 or 1.0\n",
        "\n",
        "<b>Boolean:</b> True or False data type\n",
        "<br>\n",
        "\n",
        "<b>Datetime:</b> Values that are either a date, time or both e.g. 2019-10-31 09:26:03.478039 (9:26 am on Halloween 2019)\n",
        "\n",
        "<b>Category:</b> A finite list of text values E.g. London, Paris, Berlin, Rome (There are a finite number of captial cities)\n",
        "\n",
        "Learn more about python data types using this realpython [online resource](https://realpython.com/python-data-types/)\n",
        "<br>\n",
        "<br>\n",
        "<br>\n",
        "\n",
        "### Checking the data type\n",
        "\n",
        "We can check the data type of each column in a dataframe using the <code>.dtypes</code> funciton\n",
        "<br> <font color='orchid'> <b>Run the code below</b></font> and have a look at the data type of each of the columns. Are they all as you expected?"
      ]
    },
    {
      "cell_type": "code",
      "execution_count": null,
      "metadata": {
        "scrolled": true,
        "id": "EsEKAWIBKCWJ"
      },
      "outputs": [],
      "source": [
        "titanic.dtypes"
      ]
    },
    {
      "cell_type": "code",
      "source": [
        "titanic.dtypes.dtype"
      ],
      "metadata": {
        "id": "iaYP9CQylBDn"
      },
      "execution_count": null,
      "outputs": []
    },
    {
      "cell_type": "markdown",
      "metadata": {
        "id": "h-j_TqUvKCWJ"
      },
      "source": [
        "<code>.info()</code> gives us slightly more information including:\n",
        "- data types: (<code>.dtypes</code>)\n",
        "- null counts: number of rows containing non-null values\n",
        "- memory usage: how much computer memory the table uses (useful to know to stop your code running)\n",
        "\n",
        "If a column has fewer non-null values than the total number of rows this indicates that data might be missing.\n",
        "<br> <font color='orchid'> <b>Run the code below</b></font>"
      ]
    },
    {
      "cell_type": "code",
      "execution_count": null,
      "metadata": {
        "scrolled": true,
        "id": "Rd2hmGB6KCWJ"
      },
      "outputs": [],
      "source": [
        "titanic.info()"
      ]
    },
    {
      "cell_type": "markdown",
      "metadata": {
        "id": "yeEpRy2QKCWJ"
      },
      "source": [
        "<div class=\"alert alert-block alert-info\">"
      ]
    },
    {
      "cell_type": "markdown",
      "metadata": {
        "id": "IH-Bqw5mKCWK"
      },
      "source": [
        "# Reading in, exploring and summarising data\n",
        "\n",
        "- Importing packages\n",
        "- Reading in data (CSV)\n",
        "- Exploring data frames\n",
        "- Data summarisation\n",
        "- Data cleaning"
      ]
    },
    {
      "cell_type": "markdown",
      "metadata": {
        "id": "mfU56Z7JKCWK"
      },
      "source": [
        "## Importing Packages"
      ]
    },
    {
      "cell_type": "markdown",
      "metadata": {
        "id": "dRwTRMewKCWK"
      },
      "source": [
        "Python has a lot of basic functionality built in e.g. the maths we have just done, but a lot of the time while doing data analysis you will require more than the basic functionality. This is when you need to import packages.\n",
        "If you have seen anyone else's code before you will note people tend to install all packages at the beginning of their code."
      ]
    },
    {
      "cell_type": "markdown",
      "metadata": {
        "id": "oP3lLbZ4KCWK"
      },
      "source": [
        "To import a package use the statement <code>import</code> followed by the <code>package_name</code>.\n",
        "\n",
        "<br> <font color='orchid'> <b>Run the code below</b></font> to import the pandas package. <br>(nothing will appear in the cell but a number will appear in the squared brackets)\n",
        "\n"
      ]
    },
    {
      "cell_type": "code",
      "execution_count": null,
      "metadata": {
        "id": "bUp2_JD3KCWK"
      },
      "outputs": [],
      "source": [
        "import pandas"
      ]
    },
    {
      "cell_type": "markdown",
      "metadata": {
        "id": "7k4PsYkTKCWL"
      },
      "source": [
        "### The pandas package\n",
        "The pandas package allows us to easily create and handle dataframes, similar to Excel. Data is put into an easily readable format of columns and rows.\n",
        "\n",
        "It also allows us to read in data from a CSV file or excle file.\n",
        "\n",
        "Often when we use the package we refer to it for example <code>pandas.read_csv()</code>\n",
        "\n",
        "### Note on abbreviating packages\n",
        "To save us having to type out pandas everytime we can abbreviate pandas to pd using the code bellow (<font color='orchid'> <b>Run the code below</b></font>).\n",
        "\n",
        "This is often done for commonly used packages to save time and reduce the likelihood of typos while coding.\n",
        "\n",
        "So <code>pandas.read_csv()</code> becomes <code>pd.read_csv()</code>."
      ]
    },
    {
      "cell_type": "code",
      "execution_count": null,
      "metadata": {
        "id": "Sf9XSRu3KCWL"
      },
      "outputs": [],
      "source": [
        "import pandas as pd"
      ]
    },
    {
      "cell_type": "markdown",
      "metadata": {
        "id": "C6qIc6eeKCWL"
      },
      "source": [
        " Now let's install some of the packages we will need for the rest of the exercises\n",
        "\n",
        "<font color='orchid'> <b>Run the code below</b></font>"
      ]
    },
    {
      "cell_type": "code",
      "execution_count": null,
      "metadata": {
        "id": "m5YuYe9gKCWL"
      },
      "outputs": [],
      "source": [
        "# Import other required packages\n",
        "\n",
        "# packages for visulising data\n",
        "import matplotlib.pyplot as plt\n",
        "import seaborn as sns"
      ]
    },
    {
      "cell_type": "markdown",
      "metadata": {
        "id": "kkiuE6-yKCWL"
      },
      "source": [
        "## Reading in Data\n",
        "\n",
        "#### About the data <a class=\"tocSkip\">   \n",
        "\n",
        "I have fabricated some data about buying coffee (my favourite thing to do) and coffee prices close to the University. We will use this data in parts fo the workshop later on. Before we get started with any analysis we need to import the data.\n",
        "\n",
        "##### Data format <a class=\"tocSkip\">   \n",
        "\n",
        "The data is originally in a CSV (comma separated variable) format. Most data in excel can be saved as a CSV and commonly downloaded data comes as a CSV file.\n",
        "    \n",
        "Example of CSV file:\n",
        "\n",
        "<img src=\"https://github.com/Na-Leeds/MSc_GIS_Intro_to_Python/blob/main/screenshots/csv_screenshot.png?raw=1\" width=\"600\" />"
      ]
    },
    {
      "cell_type": "markdown",
      "metadata": {
        "id": "8uvv9OS6KCWL"
      },
      "source": [
        "### Reading in CSV files\n",
        "\n",
        "To read the data into a dataframe we will use the pandas package introduced above, using the <code>pd.read_csv()</code> function.\n",
        "\n",
        "\n",
        "The <code>pd.read_csv()</code> function requires a 'filepath', i.e. we need to tell python where to find the data. To do this we put the filepath in speechmarks within the brackets of the function.\n",
        "I.e. <code>pd.read_csv(\"<font color='blue'>file_path</font>\")</code>\n",
        "\n",
        "There is a <a href='#file_paths'>quick note about file paths</a> below if these are new to you.\n",
        "\n",
        "<br> <font color='orchid'> <b>Run the code below</b></font>"
      ]
    },
    {
      "cell_type": "code",
      "execution_count": null,
      "metadata": {
        "id": "sfE45ZZTKCWL"
      },
      "outputs": [],
      "source": [
        "coffee = pd.read_csv(\"https://raw.githubusercontent.com/Na-Leeds/MSc_GIS_Intro_to_Python/refs/heads/main/Intro_to_Python/coffee_data.csv\")\n",
        "# view first 5 rows of the coffee datafame\n",
        "coffee.head()"
      ]
    },
    {
      "cell_type": "markdown",
      "metadata": {
        "id": "mpg7tNJqKCWM"
      },
      "source": [
        "##### So what have we done in the above code?\n",
        "\n",
        "We have told pandas to read in a csv file and provide the path to where the CSV file can be found; saved in a folder within my documents.\n",
        "\n",
        "We have also told pandas to assign the dataframe the name 'coffee'\n",
        "It is useful to have logical dataframe names  rather than df1, df2, etc. So you know what you are referring to when you come back to your code."
      ]
    },
    {
      "cell_type": "markdown",
      "metadata": {
        "id": "_TYqox1FKCWM"
      },
      "source": [
        "## Summary statistics\n",
        "\n",
        "We are going to go back to the titanic data now to look at some summary statisitcs.\n",
        "\n",
        "To get an overview of all the data in a data frame we can explore the different columns (variables) and get some basic summary statisitcs by using the function <code>.describe()</code>\n",
        "<br>This is only possible for columns with a numeric (interger or float) data type.\n",
        "<br> <font color='orchid'> <b>Run the code below, mkaing sure you understand the ouput</b></font>"
      ]
    },
    {
      "cell_type": "code",
      "execution_count": null,
      "metadata": {
        "id": "o2hbc_gxKCWM"
      },
      "outputs": [],
      "source": [
        "titanic.describe()"
      ]
    },
    {
      "cell_type": "markdown",
      "metadata": {
        "id": "0lscKMlDKCWM"
      },
      "source": [
        "### Summarising a single column\n",
        "<code>.decribe()</code> can also be used on just one column:\n",
        "\n",
        "<b>Remember:</b> The easiest way to refer to a column is by putting the name of the column in square brackets and speech marks [\" \"] after the name of the dataframe. e.g. <code>dataframe_name[\"column_name\"].describe()</code>\n",
        "\n",
        "<b> <font color='orchid'> <b> Write code to describe the \"age\" column of the titanic dataframe </b></font>"
      ]
    },
    {
      "cell_type": "code",
      "execution_count": null,
      "metadata": {
        "id": "vzhYIj4WKCWM"
      },
      "outputs": [],
      "source": [
        "titanic['age'].describe()"
      ]
    },
    {
      "cell_type": "markdown",
      "metadata": {
        "id": "Ok1lEl_5KCWN"
      },
      "source": [
        "or a subset of columns:\n",
        "\n",
        "<br> <font color='orchid'> <b> Run the code below to describe the \"age\" and survived columns of the titanic dataframe </b></font>"
      ]
    },
    {
      "cell_type": "code",
      "execution_count": null,
      "metadata": {
        "id": "aIM5MuqVKCWN"
      },
      "outputs": [],
      "source": [
        "titanic[['age','survived']].describe()"
      ]
    },
    {
      "cell_type": "markdown",
      "metadata": {
        "id": "BvYu4F8lKCWN"
      },
      "source": [
        "Note to select more than one column we use double square brackets [[ ]] as we are selecting a <b>list</b> of columns"
      ]
    },
    {
      "cell_type": "markdown",
      "metadata": {
        "id": "zl10wMpVKCWN"
      },
      "source": [
        "### Mean, median, mode, quantile, std, count\n",
        "We can also just get one of the metrics from the <code>describe()</code> function e.g. <code>.mean()</code>, <code>.quantile(0.75)</code>, <code>.max()</code>\n",
        "\n",
        "Use the age column of the titanic data to explore these functions in the cells below."
      ]
    },
    {
      "cell_type": "markdown",
      "metadata": {
        "id": "-fM9d-o-KCWN"
      },
      "source": [
        "#### Mean\n",
        "<code>.mean()</code>\n",
        "<br> <font color='orchid'> <b> Run the code below to calculate the mean \"age\" </b></font>"
      ]
    },
    {
      "cell_type": "code",
      "execution_count": null,
      "metadata": {
        "id": "pKzs9_McKCWN"
      },
      "outputs": [],
      "source": [
        "titanic['age'].mean()"
      ]
    },
    {
      "cell_type": "markdown",
      "metadata": {
        "id": "KPuI0M2wKCWO"
      },
      "source": [
        "#### Median\n",
        "<code>.median()</code>\n",
        "<br> <font color='orchid'> <b> Run the code below to calculate the median \"age\" </b></font>"
      ]
    },
    {
      "cell_type": "code",
      "execution_count": null,
      "metadata": {
        "id": "JB2G1di8KCWO"
      },
      "outputs": [],
      "source": [
        "titanic['age'].median()"
      ]
    },
    {
      "cell_type": "markdown",
      "metadata": {
        "id": "FORyJ4oeKCWO"
      },
      "source": [
        "#### Quantile\n",
        "<code>.quantile(q)</code><br>\n",
        "Where: <br>\n",
        "q: Quantile or sequence of quantiles to compute, which must be between 0 and 1 inclusive.\n",
        "\n",
        "<br> <font color='orchid'> <b> Run the code below to calculate quantiles for the \"age\" variable </b></font>"
      ]
    },
    {
      "cell_type": "code",
      "execution_count": null,
      "metadata": {
        "id": "_qF3QWskKCWO"
      },
      "outputs": [],
      "source": [
        "# Get the 75% quantile\n",
        "titanic['age'].quantile(0.75)"
      ]
    },
    {
      "cell_type": "markdown",
      "metadata": {
        "id": "JM6fK3aYKCWO"
      },
      "source": [
        "<br> <font color='orchid'> <b>Write your own code below to get the 25% quantile</b></font>"
      ]
    },
    {
      "cell_type": "code",
      "execution_count": null,
      "metadata": {
        "id": "G8hqqkMHKCWO"
      },
      "outputs": [],
      "source": [
        "# Get the 25% quantile\n"
      ]
    },
    {
      "cell_type": "markdown",
      "metadata": {
        "id": "GkgSuB-uKCWO"
      },
      "source": [
        "#### Maximum and Minimum\n",
        "\n",
        "<code>.max()</code> <code>.min()</code>\n",
        "<br> <font color='orchid'> <b> Run the code below to get the oldest passenger</b></font>"
      ]
    },
    {
      "cell_type": "code",
      "execution_count": null,
      "metadata": {
        "scrolled": true,
        "id": "xo43rSbqKCWP"
      },
      "outputs": [],
      "source": [
        "# get the oldest passenger\n",
        "titanic['age'].max()"
      ]
    },
    {
      "cell_type": "markdown",
      "metadata": {
        "id": "6S5FMJjXKCWP"
      },
      "source": [
        "<br> <font color='orchid'> <b>Write your own code below to get the youngest passenger</b></font>"
      ]
    },
    {
      "cell_type": "code",
      "execution_count": null,
      "metadata": {
        "id": "pjMMcepfKCWP"
      },
      "outputs": [],
      "source": [
        "# get the youngest passenger\n"
      ]
    },
    {
      "cell_type": "markdown",
      "metadata": {
        "id": "tzPIZQSyKCWQ"
      },
      "source": [
        "#### n smallest and largest\n",
        "\n",
        "<code>nsmallest(n=)</code><code>nlargest(n=)</code>\n",
        "\n",
        "Sometimes it is useful to be able to look at n number of values at the extreme of the data. This can especially be useful to identify outliers in the data.\n",
        "\n",
        "<br> <font color='orchid'> <b>Write your own code below to identify the 10 youngest and 5 oldest passenger</b></font>"
      ]
    },
    {
      "cell_type": "code",
      "execution_count": null,
      "metadata": {
        "id": "w6LO9Z4hKCWQ"
      },
      "outputs": [],
      "source": [
        "# 10 youngest passengers\n"
      ]
    },
    {
      "cell_type": "code",
      "execution_count": null,
      "metadata": {
        "id": "MI3kTR7oKCWQ"
      },
      "outputs": [],
      "source": [
        "# 5 oldest passengers\n"
      ]
    },
    {
      "cell_type": "markdown",
      "metadata": {
        "id": "9bwCFpzNKCWQ"
      },
      "source": [
        "## Data Cleaning"
      ]
    },
    {
      "cell_type": "markdown",
      "metadata": {
        "id": "ILKVnKQIKCWR"
      },
      "source": [
        "Data cleaning is the process of replacing, modifying, or deleting records from a set of data that have been identified as incomplete, incorrect, inaccurate or irrelevant."
      ]
    },
    {
      "cell_type": "markdown",
      "metadata": {
        "id": "s42tyRFBKCWR"
      },
      "source": [
        "### Checking for missing data\n",
        "\n",
        "Often the first step in data cleaning is to check for missing data. Earlier on we used <code>.info()</code> to get an overview of the titanic data frame and identify the number of non-null values in each columns. Remember <code>NaN</code> denotes a cell that contains no data (a null object).\n",
        "\n",
        "<br> <font color='orchid'> <b>Re-run <code>titanic.info()</code> to remind yourself</b></font>"
      ]
    },
    {
      "cell_type": "code",
      "execution_count": null,
      "metadata": {
        "id": "tlIy2WZmKCWR"
      },
      "outputs": [],
      "source": [
        "titanic.info()"
      ]
    },
    {
      "cell_type": "markdown",
      "metadata": {
        "id": "5niIYv9WKCWS"
      },
      "source": [
        "Equally we can used <code>.isna()</code> or <code>.isnull()</code> which both have the same function; to identify if the cell in the dataframe contains no data.\n",
        "\n",
        "<br> <font color='orchid'> <b>Run both sets of code below to see which rows contain null data.</b></font>"
      ]
    },
    {
      "cell_type": "code",
      "execution_count": null,
      "metadata": {
        "id": "JGJVBrW-KCWS"
      },
      "outputs": [],
      "source": [
        "titanic.isna()"
      ]
    },
    {
      "cell_type": "code",
      "execution_count": null,
      "metadata": {
        "id": "Z-s4UzezKCWS"
      },
      "outputs": [],
      "source": [
        "titanic.isnull()"
      ]
    },
    {
      "cell_type": "markdown",
      "metadata": {
        "id": "Fy9b_mZZKCWS"
      },
      "source": [
        "This shows us row by row if the value is null or not, however it would also be useful to know the total number of null rows. To do this simply add <code>.sum()</code> after <code>.isna()</code> or <code>.isnull()</code>."
      ]
    },
    {
      "cell_type": "code",
      "execution_count": null,
      "metadata": {
        "id": "qoYEkMFNKCWS"
      },
      "outputs": [],
      "source": [
        "titanic.isnull().sum()"
      ]
    },
    {
      "cell_type": "markdown",
      "metadata": {
        "id": "wLKOz2sJKCWT"
      },
      "source": [
        "From this we can see a few passengers are missing age data, 2 are missing data on where they embarked but a lot are missing data on which deck they were on"
      ]
    },
    {
      "cell_type": "markdown",
      "metadata": {
        "id": "WINPgF65KCWT"
      },
      "source": [
        "There are many ways to deal with missing data and it is up to you how you choose to handle missing values. For the sake of this exercise I will show you a few methods."
      ]
    },
    {
      "cell_type": "markdown",
      "metadata": {
        "id": "4XDJXCRFKCWT"
      },
      "source": [
        "#### Drop unwanted columns\n",
        "\n",
        "As so many passengers are missing data on which deck they are on we are going to remove or 'drop' the deck column from the titanic dataframe.\n",
        "\n",
        "To do this we use the <code>.drop()</code> function.\n",
        "We have to specify:\n",
        "- the lable of the column (or index) we want to drop <code>['parch']</code>\n",
        "- the axis to be dropped: whether to drop labels from the index (0 or ‘index’) or columns (1 or ‘columns’).\n",
        "\n",
        "Full information about the <code>.drop</code> function can be found here https://pandas.pydata.org/pandas-docs/stable/reference/api/pandas.DataFrame.drop.html"
      ]
    },
    {
      "cell_type": "code",
      "execution_count": null,
      "metadata": {
        "id": "6fsIwpFkKCWT"
      },
      "outputs": [],
      "source": [
        "titanic.drop(['parch'],axis=1)"
      ]
    },
    {
      "cell_type": "code",
      "execution_count": null,
      "metadata": {
        "id": "j0bYuVQPKCWT"
      },
      "outputs": [],
      "source": [
        "# or\n",
        "titanic.drop(['parch'],axis='columns')"
      ]
    },
    {
      "cell_type": "code",
      "execution_count": null,
      "metadata": {
        "id": "w2yihstrKCWT"
      },
      "outputs": [],
      "source": [
        "# or\n",
        "titanic.drop(columns =['parch'])"
      ]
    },
    {
      "cell_type": "markdown",
      "metadata": {
        "id": "3IUBtZ5DKCWU"
      },
      "source": [
        "However, if we now check the titanic columns 'deck' is still there,"
      ]
    },
    {
      "cell_type": "code",
      "execution_count": null,
      "metadata": {
        "id": "bi9BO7kpKCWU"
      },
      "outputs": [],
      "source": [
        "titanic.columns"
      ]
    },
    {
      "cell_type": "markdown",
      "metadata": {
        "id": "fvHPgfk8KCWU"
      },
      "source": [
        "This is because we have not replaced the orginial titnaic dataframe with the new titanic dataframe where the columns have been dropped. To do this we simply need to write <code> titanic = titanic.drop(columns =['parch'])</code>"
      ]
    },
    {
      "cell_type": "code",
      "execution_count": null,
      "metadata": {
        "id": "rAETYDJUKCWU"
      },
      "outputs": [],
      "source": [
        "titanic = titanic.drop(columns =['parch'])\n",
        "titanic.columns"
      ]
    },
    {
      "cell_type": "markdown",
      "metadata": {
        "id": "wzSj1-HHKCWU"
      },
      "source": [
        "Now the titanic dataframe does not contain the 'deck' column.\n",
        "\n",
        "Be careful to check the code has done what you want it to before when redefining dataframes as you may accidentally loose data or information"
      ]
    },
    {
      "cell_type": "markdown",
      "metadata": {
        "id": "soe9HorbKCWU"
      },
      "source": [
        "### Dropping unwanted rows\n",
        "\n",
        "In the case of the passengers with missing embarking inforamtion we may want to remove these two passengers form the dataframe.\n",
        "\n",
        "#### Droppping null rows\n",
        "\n",
        "Similar to <code>.drop()</code> and <code>.isna()</code> we can used <code>.dropna()</code> which drops rows with null values in a particualr column e.g.\n",
        "\n",
        "<code>titanic['embarked'].dropna()</code> drops rows where 'embarked' is NaN"
      ]
    },
    {
      "cell_type": "code",
      "execution_count": null,
      "metadata": {
        "scrolled": true,
        "id": "TTg0Dk5kKCWV"
      },
      "outputs": [],
      "source": [
        "titanic['embarked'].dropna()"
      ]
    },
    {
      "cell_type": "code",
      "source": [
        "# dropping rows for a coloum will not change the orignial data frame\n",
        "titanic.shape"
      ],
      "metadata": {
        "id": "HI63bL4PuI00"
      },
      "execution_count": null,
      "outputs": []
    },
    {
      "cell_type": "markdown",
      "metadata": {
        "id": "YXejK_AvKCWV"
      },
      "source": [
        "### Using .loc to access groups of rows and or columns\n",
        "\n",
        "We can also look at the rows where 'embarked' is NaN.\n",
        "\n",
        "The <code><font color='blue'>dataframe_name</font>.loc[]</code> attribute of pandas dataframes allows us to access rows and/or columns of the dataframe we want to edit or view  \n",
        "\n",
        "\n",
        "<br><font color='orchid'><b> Run through the next few cells and make sure you understand how <code>.loc</code> is working to select the different columns and rows </b></font>"
      ]
    },
    {
      "cell_type": "code",
      "execution_count": null,
      "metadata": {
        "id": "dS3tiIbgKCWV"
      },
      "outputs": [],
      "source": [
        "titanic.loc[titanic['embarked'].isna()]"
      ]
    },
    {
      "cell_type": "markdown",
      "metadata": {
        "id": "S8yqyeqKKCWV"
      },
      "source": [
        "We can also look at rows where the column contains a certain attribute or attributes. For example we can see which passengers embarked in Southampton using <code>titanic.loc[titanic['embark_town']=='Southampton']</code>\n",
        "\n",
        "<b>Note:</b>\n",
        "- the double equals sign == is used to compare the values (whereas a single = is used to assign a value to a variable)\n",
        "- Southampton is a string so we use ' '"
      ]
    },
    {
      "cell_type": "code",
      "execution_count": null,
      "metadata": {
        "id": "XVBBkxg8KCWV"
      },
      "outputs": [],
      "source": [
        "titanic.loc[titanic['embark_town']=='Southampton']"
      ]
    },
    {
      "cell_type": "markdown",
      "metadata": {
        "id": "YN6npTZGKCWV"
      },
      "source": [
        "<code>.loc[]</code> can also be used for numbers. E.g. find where the fare paid is £30"
      ]
    },
    {
      "cell_type": "code",
      "execution_count": null,
      "metadata": {
        "id": "4zUhJm12KCWW"
      },
      "outputs": [],
      "source": [
        "titanic.loc[titanic['fare']==30]"
      ]
    },
    {
      "cell_type": "markdown",
      "metadata": {
        "id": "7KOFO0qCKCWW"
      },
      "source": [
        "For numeric columns we can also use other comaprison operators other than <code> == </code>\n",
        "\n",
        "\n",
        "Additional information: https://data-flair.training/blogs/python-comparison-operators"
      ]
    },
    {
      "cell_type": "markdown",
      "metadata": {
        "id": "EldGNiP9KCWW"
      },
      "source": [
        "Write code using the loc funciton to answer the following questions:\n",
        "- How many passengers paid less than £30 (number of rows = number of passengers)?\n",
        "- How many passengers were male (number of rows = number of passengers)?\n",
        "- How many passengers were 75 or older?\n",
        "- How many passengers did not embark in Southampton?"
      ]
    },
    {
      "cell_type": "code",
      "execution_count": null,
      "metadata": {
        "id": "CvPYeHNOKCWW"
      },
      "outputs": [],
      "source": [
        "# How many passengers paid less than £30 (number of rows = number of passengers)?\n"
      ]
    },
    {
      "cell_type": "code",
      "execution_count": null,
      "metadata": {
        "id": "_D3YKHPHKCWW"
      },
      "outputs": [],
      "source": [
        "# How many passengers were male (number of rows = number of passengers)?\n"
      ]
    },
    {
      "cell_type": "code",
      "execution_count": null,
      "metadata": {
        "id": "ucExU_jmKCWW"
      },
      "outputs": [],
      "source": [
        "# How many passengers were 75 or older?\n"
      ]
    },
    {
      "cell_type": "code",
      "execution_count": null,
      "metadata": {
        "id": "qIMA1nb4KCWW"
      },
      "outputs": [],
      "source": [
        "# How many passengers did not embark in Southampton?\n"
      ]
    },
    {
      "cell_type": "markdown",
      "metadata": {
        "id": "kxx3ud_bKCWW"
      },
      "source": [
        "We might just be interested in a variable dependent on another variable value. E.g. The boarding class of passengers who paid over £100."
      ]
    },
    {
      "cell_type": "code",
      "execution_count": null,
      "metadata": {
        "scrolled": true,
        "id": "PAfmvPZcKCWX"
      },
      "outputs": [],
      "source": [
        "titanic.loc[titanic['fare']>=100, 'class']"
      ]
    },
    {
      "cell_type": "markdown",
      "metadata": {
        "id": "Vh54YRf7KCWX"
      },
      "source": [
        "### Rounding data"
      ]
    },
    {
      "cell_type": "markdown",
      "metadata": {
        "id": "C7rRzH7QKCWX"
      },
      "source": [
        "The youngest passenger in the titanic data is 0.42 years old (~aprox. 5 months). However, the age of all passengers over 1 is rounded to the nearest year.\n",
        "\n",
        "We can clean the data so that all participant ages are to the nearest year. Wecan do this using the <code>.round(n)</code> function, where n is the number of decimal places"
      ]
    },
    {
      "cell_type": "code",
      "execution_count": null,
      "metadata": {
        "id": "Nov9A_DVKCWX"
      },
      "outputs": [],
      "source": [
        "# first identify passengers under 1\n",
        "titanic.loc[titanic['age']<1]"
      ]
    },
    {
      "cell_type": "code",
      "execution_count": null,
      "metadata": {
        "id": "rW-7FQRLKCWX"
      },
      "outputs": [],
      "source": [
        "# round age to whole number (0 decimal places)\n",
        "titanic['age'] = titanic['age'].round(0)"
      ]
    },
    {
      "cell_type": "code",
      "execution_count": null,
      "metadata": {
        "id": "pJxs02AKKCWX"
      },
      "outputs": [],
      "source": [
        "# re-identify passengers under 1\n",
        "titanic.loc[titanic['age']<1]"
      ]
    },
    {
      "cell_type": "markdown",
      "metadata": {
        "id": "VcqCKvEDKCWY"
      },
      "source": [
        "As all the other children under 1 were older than 6 months their age is rounded up to 1, so only 1 child aged 0 remains."
      ]
    },
    {
      "cell_type": "markdown",
      "metadata": {
        "id": "nfbHY84sKCWY"
      },
      "source": [
        "### Manually correcting data\n",
        "\n",
        "Sometimes due to various reasons (human error, misclassification, analytical purpose) you might want to overrwrite data.\n",
        "\n",
        "In this case we are going to look at the titanic data and see how children are classified.\n",
        "\n",
        "<br> <font color='orchid'> <b>Run the code below to show the oldest age of children aboard the titanic.</dont></br>"
      ]
    },
    {
      "cell_type": "code",
      "execution_count": null,
      "metadata": {
        "id": "iexlp7rwKCWY"
      },
      "outputs": [],
      "source": [
        "titanic.loc[(titanic['who']=='child')]['age'].max()"
      ]
    },
    {
      "cell_type": "markdown",
      "metadata": {
        "id": "Mup6na7FKCWY"
      },
      "source": [
        "Looking at this data it suggests that anyone over the age of 15 might be classified as an adult.\n",
        "\n",
        "We can check this theory by selecting everyone who is not a child <code> titanic.loc[(titanic['who']!='child')</code> and using the <code> & </code> symbol to get everyone in this selected group who is under 18.\n",
        "<code>(titanic['age'] < 18)]</code>"
      ]
    },
    {
      "cell_type": "code",
      "execution_count": null,
      "metadata": {
        "id": "xr552b1LKCWY"
      },
      "outputs": [],
      "source": [
        "titanic.loc[(titanic['who']!='child') & (titanic['age']<18)]"
      ]
    },
    {
      "cell_type": "code",
      "execution_count": null,
      "metadata": {
        "id": "mwO52KMbKCWY"
      },
      "outputs": [],
      "source": [
        "titanic.loc[(titanic['who']!='child') & (titanic['age']<18)].shape[0]"
      ]
    },
    {
      "cell_type": "markdown",
      "metadata": {
        "id": "GVZ_2iSDKCWZ"
      },
      "source": [
        "We can see there are 30 passenegers who are classified as 'man' or 'woman' (i.e. not children) but who are under 18 years old. We might instead to classify those under 18 as children.\n",
        "\n",
        "We can do this by adapting the code we just used but his time selecting just the 'who' column <code>, 'who']</code>\n",
        "<br> <font color =orchid> <b>Run the code below </font></br>"
      ]
    },
    {
      "cell_type": "code",
      "execution_count": null,
      "metadata": {
        "id": "IeuOZBIWKCWZ"
      },
      "outputs": [],
      "source": [
        "titanic.loc[(titanic['who']!='child') & (titanic['age']<18),\"who\"]"
      ]
    },
    {
      "cell_type": "markdown",
      "metadata": {
        "id": "kX7-I1owKCWZ"
      },
      "source": [
        "We can then overwrite these values by assigning the selected 'who' column values to 'child'. using the code <code>= 'child'</code>"
      ]
    },
    {
      "cell_type": "code",
      "execution_count": null,
      "metadata": {
        "id": "q9IdSIPXKCWZ"
      },
      "outputs": [],
      "source": [
        "titanic.loc[(titanic['who']!='child') & (titanic['age']<18),\"who\"] = 'child'"
      ]
    },
    {
      "cell_type": "markdown",
      "metadata": {
        "id": "GJDDsd0bKCWZ"
      },
      "source": [
        "To test this has worked re-run the code selecting those who are not children but are under 18 (this should now not return any rows)."
      ]
    },
    {
      "cell_type": "code",
      "execution_count": null,
      "metadata": {
        "id": "UsmiXslmKCWZ"
      },
      "outputs": [],
      "source": [
        "titanic.loc[(titanic['who']!='child') & (titanic['age']<18)]"
      ]
    },
    {
      "cell_type": "markdown",
      "metadata": {
        "id": "A94ml1xKKCWZ"
      },
      "source": [
        "<div class=\"alert alert-block alert-info\">\n",
        "\n",
        "## Check your answers\n",
        "    "
      ]
    },
    {
      "cell_type": "markdown",
      "metadata": {
        "id": "KGoC-uT1KCWa"
      },
      "source": [
        "Answers to the enter your own code sections above.\n",
        "\n",
        "<b>2.3.1 Summarising a single column <font color='orchid'> Write code to describe the \"age\" column of the titanic dataframe<font color='orchid'></b>\n",
        "\n",
        "<img src=\"https://github.com/Na-Leeds/MSc_GIS_Intro_to_Python/blob/main/screenshots/titanic_describe.png?raw=1\" width=1000 >\n",
        "\n",
        "    \n",
        "<b> 1.5.1 Lists and basic maths<font color='orchid'> What happens when we try to multiply the list by 3? <font color='orchid'> </b> The list repeats 3 times:\n",
        "<img src=\"https://github.com/Na-Leeds/MSc_GIS_Intro_to_Python/blob/main/screenshots/number_list.png?raw=1\" width=1000 >\n",
        "    \n",
        "<b> 1.6.2 Data frame columns <font color='orchid'> Enter titanic.columns in the cell below. <font color='orchid'> </b>\n",
        "\n",
        "<img src=\"https://github.com/Na-Leeds/MSc_GIS_Intro_to_Python/blob/main/screenshots/titanic_columns.png?raw=1\" width=1000 >   \n",
        "    \n",
        "<b> 1.6.2.1  Referring to a column in a dataframe<font color='orchid'> Select the 'fare' column from the titanic dataframe.<font color='orchid'> </b>\n",
        "\n",
        "<img src=\"https://github.com/Na-Leeds/MSc_GIS_Intro_to_Python/blob/main/screenshots/titanic_fare.png?raw=1\" width=1000 >    \n"
      ]
    },
    {
      "cell_type": "markdown",
      "metadata": {
        "id": "wHJaTgxBKCWa"
      },
      "source": [
        "<div class=\"alert alert-block alert-warning\">\n",
        "\n",
        "## Extra task\n",
        "\n",
        "If you have time, load the coffee dataset (it may already be loaded) and answer the following question using your new found coding skills.\n",
        "    \n",
        "1. How many columns and rows does the coffee data frame have?\n",
        "2. What are the data types of the different columns in the coffee dataframe?\n",
        "3. Is there any data obviously missing from the dataframe?\n",
        "4. Using <code>.describe()</code> summary statistics for which variables are shown, why only these variables\n",
        "5. What is the average (mean) price of coffee?\n",
        "6. What is the standard deviation in coffee price?\n",
        "7. What is the median coffee rating?\n",
        "8. Using <code>.nlargest()</code> how many coffees scored 5/5?"
      ]
    },
    {
      "cell_type": "code",
      "execution_count": null,
      "metadata": {
        "id": "czDU4tKpKCWa"
      },
      "outputs": [],
      "source": [
        "# check coffee data frame has be read in using coffee.head()\n",
        "coffee.head()"
      ]
    },
    {
      "cell_type": "code",
      "source": [
        "# load data again if needed\n"
      ],
      "metadata": {
        "id": "C7SS-Gfs3E1E"
      },
      "execution_count": null,
      "outputs": []
    },
    {
      "cell_type": "code",
      "execution_count": null,
      "metadata": {
        "id": "00cH8Tl1KCWa"
      },
      "outputs": [],
      "source": [
        "# 1. How many columns and rows does the coffee data frame have?\n"
      ]
    },
    {
      "cell_type": "code",
      "execution_count": null,
      "metadata": {
        "id": "djefQAuBKCWb"
      },
      "outputs": [],
      "source": [
        "# 2. What are the data types of the different columns in the coffee dataframe?\n",
        "\n"
      ]
    },
    {
      "cell_type": "code",
      "execution_count": null,
      "metadata": {
        "id": "2NaGa8ztKCWb"
      },
      "outputs": [],
      "source": [
        "# 3. Is there any data obviously missing from the dataframe?\n"
      ]
    },
    {
      "cell_type": "code",
      "execution_count": null,
      "metadata": {
        "id": "FwCn8F4rKCWb"
      },
      "outputs": [],
      "source": [
        "# 4. Using .describe() summary statistics for which variables are shown?\n"
      ]
    },
    {
      "cell_type": "markdown",
      "metadata": {
        "id": "xA5PcanhKCWb"
      },
      "source": [
        "Why only these variables: (write markdown (text) answer here)"
      ]
    },
    {
      "cell_type": "code",
      "execution_count": null,
      "metadata": {
        "id": "Gw089Z0oKCWb"
      },
      "outputs": [],
      "source": [
        "# 5. What is the average (mean) price of coffee?\n"
      ]
    },
    {
      "cell_type": "code",
      "execution_count": null,
      "metadata": {
        "id": "2-GQf0UVKCWb"
      },
      "outputs": [],
      "source": [
        "# 6. What is the standard deviation in coffee price?\n"
      ]
    },
    {
      "cell_type": "code",
      "execution_count": null,
      "metadata": {
        "id": "NBuygmmtKCWb"
      },
      "outputs": [],
      "source": [
        "# 7. What is the median coffee rating?\n"
      ]
    },
    {
      "cell_type": "code",
      "execution_count": null,
      "metadata": {
        "id": "quwLJX24KCWb"
      },
      "outputs": [],
      "source": [
        "# 8. Using .nlargest() how many coffees scored 5/5?\n"
      ]
    },
    {
      "cell_type": "markdown",
      "metadata": {
        "id": "e0je181wKCWc"
      },
      "source": [
        "Number of coffees scoring 5/5: (type answer here- markdown)"
      ]
    },
    {
      "cell_type": "markdown",
      "metadata": {
        "id": "4G9zgwWzKCWc"
      },
      "source": [
        "Write markdown (text) answer here:\n",
        "\n",
        "\n"
      ]
    },
    {
      "cell_type": "markdown",
      "metadata": {
        "id": "c25BeLUAKCWc"
      },
      "source": [
        "### Extra task answers <a class=\"tocSkip\">   \n",
        "    \n",
        "#### How many columns and rows does the coffee data frame have? <a class=\"tocSkip\">   \n",
        "<img src=\"https://github.com/Na-Leeds/MSc_GIS_Intro_to_Python/blob/main/screenshots/coffee_shape.png?raw=1\" width=1000 >\n",
        "24 rows, 6 columns\n",
        "    \n",
        "\n",
        "#### What are the data types of the different columns in the coffee dataframe?<a class=\"tocSkip\">\n",
        "<img src=\"https://github.com/Na-Leeds/MSc_GIS_Intro_to_Python/blob/main/screenshots/coffee_dtypes.png?raw=1\" width=1000 >\n",
        "Object (string): coffee_name, coffee_type, coffee_shop\n",
        "    \n",
        "Float: price\n",
        "    \n",
        "Integer: rating\n",
        "    \n",
        "Boolean: cake_deal\n",
        "    \n",
        "#### Is there any data obviously missing from the dataframe?<a class=\"tocSkip\">\n",
        "<img src=\"https://github.com/Na-Leeds/MSc_GIS_Intro_to_Python/blob/main/screenshots/coffee_info.png?raw=1\" width=1000 >     \n",
        "\n",
        "No: There are 24 rows and no null enteries (all entering are non-null). Indicating no missing data (Nan).\n",
        "    \n",
        "    \n",
        "*Answers are screenshots of code so cannot be copied and pasted. Type out the code yourself if you get stuck."
      ]
    },
    {
      "cell_type": "markdown",
      "metadata": {
        "id": "WKZx5VhFKCWc"
      },
      "source": []
    },
    {
      "cell_type": "markdown",
      "metadata": {
        "id": "kmfdERslKCWc"
      },
      "source": [
        "<img src=\"https://github.com/Na-Leeds/MSc_GIS_Intro_to_Python/blob/main/screenshots/answers_coffee_2.png?raw=1\" width=1000 >     \n"
      ]
    },
    {
      "cell_type": "markdown",
      "metadata": {
        "id": "M3VHt7RbKCWc"
      },
      "source": [
        "# FAQs\n",
        "\n",
        "## Why do some functions have parentheses and others do not? <a class=\"tocSkip\">\n",
        "\n",
        "Parentheses indicate the difference between methods versus attributes\n",
        "\n",
        "### Attributes: <a class=\"tocSkip\">\n",
        "- do not have parentheses ()\n",
        "- are values associated with an object e.g. <code> <font color='blue'>dataframe</font>.shape, <font color='blue'>dataframe</font>.column, <font color='blue'>dataframe</font>.dtypes </code> these are all attributes of the dataframe (object) they are applied to.\n",
        "\n",
        "### Methods: <a class=\"tocSkip\">\n",
        "- do have parentheses ()\n",
        "- are functions associated with particular objects. E.g. <code> <font color='blue'>dataframe</font>.head(), <font color='blue'>dataframe</font>[\"<font color='blue'>column</font>\"].mean() </code>"
      ]
    }
  ],
  "metadata": {
    "kernelspec": {
      "display_name": "Python 3 (ipykernel)",
      "language": "python",
      "name": "python3"
    },
    "language_info": {
      "codemirror_mode": {
        "name": "ipython",
        "version": 3
      },
      "file_extension": ".py",
      "mimetype": "text/x-python",
      "name": "python",
      "nbconvert_exporter": "python",
      "pygments_lexer": "ipython3",
      "version": "3.11.4"
    },
    "toc": {
      "base_numbering": 1,
      "nav_menu": {},
      "number_sections": true,
      "sideBar": true,
      "skip_h1_title": false,
      "title_cell": "Table of Contents",
      "title_sidebar": "Contents",
      "toc_cell": false,
      "toc_position": {
        "height": "calc(100% - 180px)",
        "left": "10px",
        "top": "150px",
        "width": "400.11029052734375px"
      },
      "toc_section_display": true,
      "toc_window_display": true
    },
    "colab": {
      "provenance": [],
      "include_colab_link": true
    }
  },
  "nbformat": 4,
  "nbformat_minor": 0
}